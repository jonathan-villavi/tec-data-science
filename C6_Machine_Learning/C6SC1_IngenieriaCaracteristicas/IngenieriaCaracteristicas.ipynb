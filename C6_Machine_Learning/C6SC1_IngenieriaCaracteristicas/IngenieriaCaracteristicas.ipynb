{
 "cells": [
  {
   "cell_type": "markdown",
   "metadata": {},
   "source": [
    "# SC15. Ingeniería de Características"
   ]
  },
  {
   "cell_type": "markdown",
   "metadata": {},
   "source": [
    "## L1. Lectura y escritura de archivos"
   ]
  },
  {
   "cell_type": "code",
   "execution_count": 1,
   "metadata": {},
   "outputs": [
    {
     "data": {
      "text/html": [
       "<div>\n",
       "<style scoped>\n",
       "    .dataframe tbody tr th:only-of-type {\n",
       "        vertical-align: middle;\n",
       "    }\n",
       "\n",
       "    .dataframe tbody tr th {\n",
       "        vertical-align: top;\n",
       "    }\n",
       "\n",
       "    .dataframe thead th {\n",
       "        text-align: right;\n",
       "    }\n",
       "</style>\n",
       "<table border=\"1\" class=\"dataframe\">\n",
       "  <thead>\n",
       "    <tr style=\"text-align: right;\">\n",
       "      <th></th>\n",
       "      <th>metros_terreno</th>\n",
       "      <th>zona</th>\n",
       "      <th>cuartos</th>\n",
       "      <th>estacionamientos</th>\n",
       "      <th>precio</th>\n",
       "    </tr>\n",
       "  </thead>\n",
       "  <tbody>\n",
       "    <tr>\n",
       "      <th>0</th>\n",
       "      <td>200</td>\n",
       "      <td>A</td>\n",
       "      <td>3</td>\n",
       "      <td>2</td>\n",
       "      <td>1825000</td>\n",
       "    </tr>\n",
       "    <tr>\n",
       "      <th>1</th>\n",
       "      <td>400</td>\n",
       "      <td>B</td>\n",
       "      <td>6</td>\n",
       "      <td>3</td>\n",
       "      <td>2850000</td>\n",
       "    </tr>\n",
       "    <tr>\n",
       "      <th>2</th>\n",
       "      <td>120</td>\n",
       "      <td>C</td>\n",
       "      <td>3</td>\n",
       "      <td>1</td>\n",
       "      <td>1375000</td>\n",
       "    </tr>\n",
       "  </tbody>\n",
       "</table>\n",
       "</div>"
      ],
      "text/plain": [
       "   metros_terreno zona  cuartos  estacionamientos   precio\n",
       "0             200    A        3                 2  1825000\n",
       "1             400    B        6                 3  2850000\n",
       "2             120    C        3                 1  1375000"
      ]
     },
     "execution_count": 1,
     "metadata": {},
     "output_type": "execute_result"
    }
   ],
   "source": [
    "import pandas as pd\n",
    "\n",
    "data = {\n",
    "    'metros_terreno': [200, 400, 120],\n",
    "    'zona': ['A', 'B', 'C'],\n",
    "    'cuartos': [3, 6, 3],\n",
    "    'estacionamientos': [2, 3, 1],\n",
    "    'precio': [1825000, 2850000, 1375000]\n",
    "}\n",
    "\n",
    "datos = pd.DataFrame(data)\n",
    "datos"
   ]
  },
  {
   "cell_type": "code",
   "execution_count": 2,
   "metadata": {},
   "outputs": [
    {
     "data": {
      "text/plain": [
       "['metros_terreno', 'zona', 'cuartos', 'estacionamientos', 'precio']"
      ]
     },
     "execution_count": 2,
     "metadata": {},
     "output_type": "execute_result"
    }
   ],
   "source": [
    "list(datos.columns)"
   ]
  },
  {
   "cell_type": "code",
   "execution_count": 3,
   "metadata": {},
   "outputs": [
    {
     "data": {
      "text/plain": [
       "metros_terreno       int64\n",
       "zona                object\n",
       "cuartos              int64\n",
       "estacionamientos     int64\n",
       "precio               int64\n",
       "dtype: object"
      ]
     },
     "execution_count": 3,
     "metadata": {},
     "output_type": "execute_result"
    }
   ],
   "source": [
    "datos.dtypes"
   ]
  },
  {
   "cell_type": "markdown",
   "metadata": {},
   "source": [
    "Renombar columnas"
   ]
  },
  {
   "cell_type": "code",
   "execution_count": 4,
   "metadata": {},
   "outputs": [],
   "source": [
    "datos.rename(columns={'cuartos':'numero_cuartos'})\n",
    "\n",
    "#La instrucción anterior regresa un nuevo frame y si no se guarda se pierde, por eso es necesario asignarlo al frame original:\n",
    "datos = datos.rename(columns = {'cuartos': 'numero_cuartos'})\n",
    "\n",
    "# O bien, decirle que haga el cambio en el frame actual, de la siguiente forma:\n",
    "datos.rename(columns={'cuartos':'numero_cuartos'}, inplace=True)"
   ]
  },
  {
   "cell_type": "markdown",
   "metadata": {},
   "source": [
    "Cambiar un registro"
   ]
  },
  {
   "cell_type": "code",
   "execution_count": 5,
   "metadata": {},
   "outputs": [
    {
     "data": {
      "text/html": [
       "<div>\n",
       "<style scoped>\n",
       "    .dataframe tbody tr th:only-of-type {\n",
       "        vertical-align: middle;\n",
       "    }\n",
       "\n",
       "    .dataframe tbody tr th {\n",
       "        vertical-align: top;\n",
       "    }\n",
       "\n",
       "    .dataframe thead th {\n",
       "        text-align: right;\n",
       "    }\n",
       "</style>\n",
       "<table border=\"1\" class=\"dataframe\">\n",
       "  <thead>\n",
       "    <tr style=\"text-align: right;\">\n",
       "      <th></th>\n",
       "      <th>metros_terreno</th>\n",
       "      <th>zona</th>\n",
       "      <th>numero_cuartos</th>\n",
       "      <th>estacionamientos</th>\n",
       "      <th>precio</th>\n",
       "    </tr>\n",
       "  </thead>\n",
       "  <tbody>\n",
       "    <tr>\n",
       "      <th>0</th>\n",
       "      <td>200</td>\n",
       "      <td>A</td>\n",
       "      <td>3</td>\n",
       "      <td>2</td>\n",
       "      <td>1825000</td>\n",
       "    </tr>\n",
       "    <tr>\n",
       "      <th>1</th>\n",
       "      <td>400</td>\n",
       "      <td>B</td>\n",
       "      <td>6</td>\n",
       "      <td>3</td>\n",
       "      <td>2850000</td>\n",
       "    </tr>\n",
       "    <tr>\n",
       "      <th>2</th>\n",
       "      <td>120</td>\n",
       "      <td>C</td>\n",
       "      <td>4</td>\n",
       "      <td>1</td>\n",
       "      <td>1375000</td>\n",
       "    </tr>\n",
       "  </tbody>\n",
       "</table>\n",
       "</div>"
      ],
      "text/plain": [
       "   metros_terreno zona  numero_cuartos  estacionamientos   precio\n",
       "0             200    A               3                 2  1825000\n",
       "1             400    B               6                 3  2850000\n",
       "2             120    C               4                 1  1375000"
      ]
     },
     "execution_count": 5,
     "metadata": {},
     "output_type": "execute_result"
    }
   ],
   "source": [
    "datos.at[2,'numero_cuartos']=4\n",
    "datos\n",
    "\n",
    "#Esta instrucción sí lo hace en el mismo dataframe por lo que no hay necesidad de usar \"inplace = True\""
   ]
  },
  {
   "cell_type": "markdown",
   "metadata": {},
   "source": [
    "## L2. Manejo y modificación de matrices y tablas"
   ]
  },
  {
   "cell_type": "markdown",
   "metadata": {},
   "source": [
    "### Datos"
   ]
  },
  {
   "cell_type": "code",
   "execution_count": 6,
   "metadata": {},
   "outputs": [
    {
     "data": {
      "text/html": [
       "<div>\n",
       "<style scoped>\n",
       "    .dataframe tbody tr th:only-of-type {\n",
       "        vertical-align: middle;\n",
       "    }\n",
       "\n",
       "    .dataframe tbody tr th {\n",
       "        vertical-align: top;\n",
       "    }\n",
       "\n",
       "    .dataframe thead th {\n",
       "        text-align: right;\n",
       "    }\n",
       "</style>\n",
       "<table border=\"1\" class=\"dataframe\">\n",
       "  <thead>\n",
       "    <tr style=\"text-align: right;\">\n",
       "      <th></th>\n",
       "      <th>nombre</th>\n",
       "      <th>ciudad</th>\n",
       "      <th>estado</th>\n",
       "      <th>pais</th>\n",
       "      <th>habitación</th>\n",
       "      <th>precio</th>\n",
       "      <th>estrellas</th>\n",
       "      <th>playa</th>\n",
       "    </tr>\n",
       "  </thead>\n",
       "  <tbody>\n",
       "    <tr>\n",
       "      <th>0</th>\n",
       "      <td>Gran X</td>\n",
       "      <td>Cancun</td>\n",
       "      <td>Quintana Roo</td>\n",
       "      <td>México</td>\n",
       "      <td>doble</td>\n",
       "      <td>3250</td>\n",
       "      <td>5</td>\n",
       "      <td>1</td>\n",
       "    </tr>\n",
       "    <tr>\n",
       "      <th>1</th>\n",
       "      <td>Colonial</td>\n",
       "      <td>Barranquilla</td>\n",
       "      <td>Atlántico</td>\n",
       "      <td>Colombia</td>\n",
       "      <td>sencilla</td>\n",
       "      <td>1500</td>\n",
       "      <td>4</td>\n",
       "      <td>0</td>\n",
       "    </tr>\n",
       "    <tr>\n",
       "      <th>2</th>\n",
       "      <td>The Bridge</td>\n",
       "      <td>Portland</td>\n",
       "      <td>Oregon</td>\n",
       "      <td>USA</td>\n",
       "      <td>sencilla</td>\n",
       "      <td>2500</td>\n",
       "      <td>3</td>\n",
       "      <td>0</td>\n",
       "    </tr>\n",
       "  </tbody>\n",
       "</table>\n",
       "</div>"
      ],
      "text/plain": [
       "       nombre        ciudad        estado      pais habitación  precio  \\\n",
       "0      Gran X        Cancun  Quintana Roo    México      doble    3250   \n",
       "1    Colonial  Barranquilla     Atlántico  Colombia   sencilla    1500   \n",
       "2  The Bridge      Portland        Oregon       USA   sencilla    2500   \n",
       "\n",
       "   estrellas playa  \n",
       "0          5     1  \n",
       "1          4     0  \n",
       "2          3     0  "
      ]
     },
     "execution_count": 6,
     "metadata": {},
     "output_type": "execute_result"
    }
   ],
   "source": [
    "data = {\n",
    "    'nombre': ['Gran X', 'Colonial', 'The Bridge'],\n",
    "    'ciudad': ['Cancun', 'Barranquilla', 'Portland'],\n",
    "    'estado': ['Quintana Roo', 'Atlántico', 'Oregon'],\n",
    "    'pais': ['México', 'Colombia', 'USA'],\n",
    "    'habitación': ['doble', 'sencilla', 'sencilla'],\n",
    "    'precio': [3250, 1500, 2500],\n",
    "    'estrellas': [5, 4, 3],\n",
    "    'playa': ['1', '0', '0']\n",
    "}\n",
    "\n",
    "hoteles = pd.DataFrame(data)\n",
    "hoteles"
   ]
  },
  {
   "cell_type": "markdown",
   "metadata": {},
   "source": [
    "### Selección y eliminación de columnas"
   ]
  },
  {
   "cell_type": "markdown",
   "metadata": {},
   "source": [
    "#### Selección"
   ]
  },
  {
   "cell_type": "markdown",
   "metadata": {},
   "source": [
    "##### Una columna"
   ]
  },
  {
   "cell_type": "code",
   "execution_count": 7,
   "metadata": {},
   "outputs": [
    {
     "name": "stdout",
     "output_type": "stream",
     "text": [
      "0      México\n",
      "1    Colombia\n",
      "2         USA\n",
      "Name: pais, dtype: object\n",
      "0      México\n",
      "1    Colombia\n",
      "2         USA\n",
      "Name: pais, dtype: object\n",
      "0      México\n",
      "1    Colombia\n",
      "2         USA\n",
      "Name: pais, dtype: object\n",
      "0      México\n",
      "1    Colombia\n",
      "2         USA\n",
      "Name: pais, dtype: object\n"
     ]
    }
   ],
   "source": [
    "print(hoteles['pais'])\n",
    "\n",
    "#También odemos usar los siguientes métodos: } \".columna\"\n",
    "print(hoteles.pais)\n",
    "\n",
    "#O bien, la búsqueda por indexación con el método \".iloc[]\", este método debe recibir dos valores, el renglón y la columna:\n",
    "print(hoteles.iloc[:,3])\n",
    "\n",
    "#De manera similar podemos encontrar la columna con su mismo índice de columna y llamarla dentro del dataframe:\n",
    "print(hoteles[hoteles.columns[3]])"
   ]
  },
  {
   "cell_type": "markdown",
   "metadata": {},
   "source": [
    "#### Varias columnas"
   ]
  },
  {
   "cell_type": "markdown",
   "metadata": {},
   "source": [
    "Es importantes que consideres que la selección de varias columnas tiene dos variantes:\n",
    "* Selección de columnas en diferentes lugares.\n",
    "* Selección de columnas que se encuentran continuas.\n",
    "\n",
    "Para seleccionar columnas de diferentes lugares, sólo debemos colocar el nombre del dataframe seguido\n",
    "de una lista de columnas colocada entre corchetes."
   ]
  },
  {
   "cell_type": "code",
   "execution_count": 8,
   "metadata": {},
   "outputs": [
    {
     "data": {
      "text/html": [
       "<div>\n",
       "<style scoped>\n",
       "    .dataframe tbody tr th:only-of-type {\n",
       "        vertical-align: middle;\n",
       "    }\n",
       "\n",
       "    .dataframe tbody tr th {\n",
       "        vertical-align: top;\n",
       "    }\n",
       "\n",
       "    .dataframe thead th {\n",
       "        text-align: right;\n",
       "    }\n",
       "</style>\n",
       "<table border=\"1\" class=\"dataframe\">\n",
       "  <thead>\n",
       "    <tr style=\"text-align: right;\">\n",
       "      <th></th>\n",
       "      <th>nombre</th>\n",
       "      <th>precio</th>\n",
       "      <th>playa</th>\n",
       "    </tr>\n",
       "  </thead>\n",
       "  <tbody>\n",
       "    <tr>\n",
       "      <th>0</th>\n",
       "      <td>Gran X</td>\n",
       "      <td>3250</td>\n",
       "      <td>1</td>\n",
       "    </tr>\n",
       "    <tr>\n",
       "      <th>1</th>\n",
       "      <td>Colonial</td>\n",
       "      <td>1500</td>\n",
       "      <td>0</td>\n",
       "    </tr>\n",
       "    <tr>\n",
       "      <th>2</th>\n",
       "      <td>The Bridge</td>\n",
       "      <td>2500</td>\n",
       "      <td>0</td>\n",
       "    </tr>\n",
       "  </tbody>\n",
       "</table>\n",
       "</div>"
      ],
      "text/plain": [
       "       nombre  precio playa\n",
       "0      Gran X    3250     1\n",
       "1    Colonial    1500     0\n",
       "2  The Bridge    2500     0"
      ]
     },
     "execution_count": 8,
     "metadata": {},
     "output_type": "execute_result"
    }
   ],
   "source": [
    "hoteles[['nombre','precio', 'playa']]"
   ]
  },
  {
   "cell_type": "markdown",
   "metadata": {},
   "source": [
    "Lo más importante de esta forma de seleccionar columnas es que las puedes poner en el orden que desees:"
   ]
  },
  {
   "cell_type": "code",
   "execution_count": 9,
   "metadata": {},
   "outputs": [
    {
     "data": {
      "text/html": [
       "<div>\n",
       "<style scoped>\n",
       "    .dataframe tbody tr th:only-of-type {\n",
       "        vertical-align: middle;\n",
       "    }\n",
       "\n",
       "    .dataframe tbody tr th {\n",
       "        vertical-align: top;\n",
       "    }\n",
       "\n",
       "    .dataframe thead th {\n",
       "        text-align: right;\n",
       "    }\n",
       "</style>\n",
       "<table border=\"1\" class=\"dataframe\">\n",
       "  <thead>\n",
       "    <tr style=\"text-align: right;\">\n",
       "      <th></th>\n",
       "      <th>playa</th>\n",
       "      <th>precio</th>\n",
       "      <th>nombre</th>\n",
       "    </tr>\n",
       "  </thead>\n",
       "  <tbody>\n",
       "    <tr>\n",
       "      <th>0</th>\n",
       "      <td>1</td>\n",
       "      <td>3250</td>\n",
       "      <td>Gran X</td>\n",
       "    </tr>\n",
       "    <tr>\n",
       "      <th>1</th>\n",
       "      <td>0</td>\n",
       "      <td>1500</td>\n",
       "      <td>Colonial</td>\n",
       "    </tr>\n",
       "    <tr>\n",
       "      <th>2</th>\n",
       "      <td>0</td>\n",
       "      <td>2500</td>\n",
       "      <td>The Bridge</td>\n",
       "    </tr>\n",
       "  </tbody>\n",
       "</table>\n",
       "</div>"
      ],
      "text/plain": [
       "  playa  precio      nombre\n",
       "0     1    3250      Gran X\n",
       "1     0    1500    Colonial\n",
       "2     0    2500  The Bridge"
      ]
     },
     "execution_count": 9,
     "metadata": {},
     "output_type": "execute_result"
    }
   ],
   "source": [
    "hoteles[['playa', 'precio', 'nombre']]"
   ]
  },
  {
   "cell_type": "markdown",
   "metadata": {},
   "source": [
    "Nuevo DataFrame:"
   ]
  },
  {
   "cell_type": "code",
   "execution_count": 10,
   "metadata": {},
   "outputs": [
    {
     "data": {
      "text/html": [
       "<div>\n",
       "<style scoped>\n",
       "    .dataframe tbody tr th:only-of-type {\n",
       "        vertical-align: middle;\n",
       "    }\n",
       "\n",
       "    .dataframe tbody tr th {\n",
       "        vertical-align: top;\n",
       "    }\n",
       "\n",
       "    .dataframe thead th {\n",
       "        text-align: right;\n",
       "    }\n",
       "</style>\n",
       "<table border=\"1\" class=\"dataframe\">\n",
       "  <thead>\n",
       "    <tr style=\"text-align: right;\">\n",
       "      <th></th>\n",
       "      <th>playa</th>\n",
       "      <th>precio</th>\n",
       "      <th>nombre</th>\n",
       "    </tr>\n",
       "  </thead>\n",
       "  <tbody>\n",
       "    <tr>\n",
       "      <th>0</th>\n",
       "      <td>1</td>\n",
       "      <td>3250</td>\n",
       "      <td>Gran X</td>\n",
       "    </tr>\n",
       "    <tr>\n",
       "      <th>1</th>\n",
       "      <td>0</td>\n",
       "      <td>1500</td>\n",
       "      <td>Colonial</td>\n",
       "    </tr>\n",
       "    <tr>\n",
       "      <th>2</th>\n",
       "      <td>0</td>\n",
       "      <td>2500</td>\n",
       "      <td>The Bridge</td>\n",
       "    </tr>\n",
       "  </tbody>\n",
       "</table>\n",
       "</div>"
      ],
      "text/plain": [
       "  playa  precio      nombre\n",
       "0     1    3250      Gran X\n",
       "1     0    1500    Colonial\n",
       "2     0    2500  The Bridge"
      ]
     },
     "execution_count": 10,
     "metadata": {},
     "output_type": "execute_result"
    }
   ],
   "source": [
    "hotelPlaya = hoteles[['playa', 'precio', 'nombre']]\n",
    "hotelPlaya"
   ]
  },
  {
   "cell_type": "markdown",
   "metadata": {},
   "source": [
    "Usando *\".iloc[]\"* también es posible seleccionar columnas en diferente orden con sólo usar una lista:"
   ]
  },
  {
   "cell_type": "code",
   "execution_count": 11,
   "metadata": {},
   "outputs": [
    {
     "data": {
      "text/html": [
       "<div>\n",
       "<style scoped>\n",
       "    .dataframe tbody tr th:only-of-type {\n",
       "        vertical-align: middle;\n",
       "    }\n",
       "\n",
       "    .dataframe tbody tr th {\n",
       "        vertical-align: top;\n",
       "    }\n",
       "\n",
       "    .dataframe thead th {\n",
       "        text-align: right;\n",
       "    }\n",
       "</style>\n",
       "<table border=\"1\" class=\"dataframe\">\n",
       "  <thead>\n",
       "    <tr style=\"text-align: right;\">\n",
       "      <th></th>\n",
       "      <th>playa</th>\n",
       "      <th>precio</th>\n",
       "      <th>nombre</th>\n",
       "    </tr>\n",
       "  </thead>\n",
       "  <tbody>\n",
       "    <tr>\n",
       "      <th>0</th>\n",
       "      <td>1</td>\n",
       "      <td>3250</td>\n",
       "      <td>Gran X</td>\n",
       "    </tr>\n",
       "    <tr>\n",
       "      <th>1</th>\n",
       "      <td>0</td>\n",
       "      <td>1500</td>\n",
       "      <td>Colonial</td>\n",
       "    </tr>\n",
       "    <tr>\n",
       "      <th>2</th>\n",
       "      <td>0</td>\n",
       "      <td>2500</td>\n",
       "      <td>The Bridge</td>\n",
       "    </tr>\n",
       "  </tbody>\n",
       "</table>\n",
       "</div>"
      ],
      "text/plain": [
       "  playa  precio      nombre\n",
       "0     1    3250      Gran X\n",
       "1     0    1500    Colonial\n",
       "2     0    2500  The Bridge"
      ]
     },
     "execution_count": 11,
     "metadata": {},
     "output_type": "execute_result"
    }
   ],
   "source": [
    "hoteles.iloc[:,[7,5,0]]"
   ]
  },
  {
   "cell_type": "markdown",
   "metadata": {},
   "source": [
    "##### Columnas conjuntas"
   ]
  },
  {
   "cell_type": "markdown",
   "metadata": {},
   "source": [
    "Cuando queremos seleccionar columnas consecutivas, podemos usar *\"slicing\"* como en las matrices.\n",
    "\n",
    "Si queremos seleccionar columnas consecutivas por su número, debemos usar *\"iloc\"*. <br>\n",
    "Si queremoshacerlo con su nombre usamos *\"loc\"*."
   ]
  },
  {
   "cell_type": "code",
   "execution_count": 12,
   "metadata": {},
   "outputs": [
    {
     "data": {
      "text/html": [
       "<div>\n",
       "<style scoped>\n",
       "    .dataframe tbody tr th:only-of-type {\n",
       "        vertical-align: middle;\n",
       "    }\n",
       "\n",
       "    .dataframe tbody tr th {\n",
       "        vertical-align: top;\n",
       "    }\n",
       "\n",
       "    .dataframe thead th {\n",
       "        text-align: right;\n",
       "    }\n",
       "</style>\n",
       "<table border=\"1\" class=\"dataframe\">\n",
       "  <thead>\n",
       "    <tr style=\"text-align: right;\">\n",
       "      <th></th>\n",
       "      <th>ciudad</th>\n",
       "      <th>estado</th>\n",
       "      <th>pais</th>\n",
       "      <th>habitación</th>\n",
       "      <th>precio</th>\n",
       "    </tr>\n",
       "  </thead>\n",
       "  <tbody>\n",
       "    <tr>\n",
       "      <th>0</th>\n",
       "      <td>Cancun</td>\n",
       "      <td>Quintana Roo</td>\n",
       "      <td>México</td>\n",
       "      <td>doble</td>\n",
       "      <td>3250</td>\n",
       "    </tr>\n",
       "    <tr>\n",
       "      <th>1</th>\n",
       "      <td>Barranquilla</td>\n",
       "      <td>Atlántico</td>\n",
       "      <td>Colombia</td>\n",
       "      <td>sencilla</td>\n",
       "      <td>1500</td>\n",
       "    </tr>\n",
       "    <tr>\n",
       "      <th>2</th>\n",
       "      <td>Portland</td>\n",
       "      <td>Oregon</td>\n",
       "      <td>USA</td>\n",
       "      <td>sencilla</td>\n",
       "      <td>2500</td>\n",
       "    </tr>\n",
       "  </tbody>\n",
       "</table>\n",
       "</div>"
      ],
      "text/plain": [
       "         ciudad        estado      pais habitación  precio\n",
       "0        Cancun  Quintana Roo    México      doble    3250\n",
       "1  Barranquilla     Atlántico  Colombia   sencilla    1500\n",
       "2      Portland        Oregon       USA   sencilla    2500"
      ]
     },
     "execution_count": 12,
     "metadata": {},
     "output_type": "execute_result"
    }
   ],
   "source": [
    "#.iloc[] para seleccionar las columas de 1 a 5 (exclusivo)\n",
    "hoteles.iloc[:,1:6]"
   ]
  },
  {
   "cell_type": "code",
   "execution_count": 13,
   "metadata": {},
   "outputs": [
    {
     "data": {
      "text/html": [
       "<div>\n",
       "<style scoped>\n",
       "    .dataframe tbody tr th:only-of-type {\n",
       "        vertical-align: middle;\n",
       "    }\n",
       "\n",
       "    .dataframe tbody tr th {\n",
       "        vertical-align: top;\n",
       "    }\n",
       "\n",
       "    .dataframe thead th {\n",
       "        text-align: right;\n",
       "    }\n",
       "</style>\n",
       "<table border=\"1\" class=\"dataframe\">\n",
       "  <thead>\n",
       "    <tr style=\"text-align: right;\">\n",
       "      <th></th>\n",
       "      <th>ciudad</th>\n",
       "      <th>estado</th>\n",
       "      <th>pais</th>\n",
       "      <th>habitación</th>\n",
       "      <th>precio</th>\n",
       "    </tr>\n",
       "  </thead>\n",
       "  <tbody>\n",
       "    <tr>\n",
       "      <th>0</th>\n",
       "      <td>Cancun</td>\n",
       "      <td>Quintana Roo</td>\n",
       "      <td>México</td>\n",
       "      <td>doble</td>\n",
       "      <td>3250</td>\n",
       "    </tr>\n",
       "    <tr>\n",
       "      <th>1</th>\n",
       "      <td>Barranquilla</td>\n",
       "      <td>Atlántico</td>\n",
       "      <td>Colombia</td>\n",
       "      <td>sencilla</td>\n",
       "      <td>1500</td>\n",
       "    </tr>\n",
       "    <tr>\n",
       "      <th>2</th>\n",
       "      <td>Portland</td>\n",
       "      <td>Oregon</td>\n",
       "      <td>USA</td>\n",
       "      <td>sencilla</td>\n",
       "      <td>2500</td>\n",
       "    </tr>\n",
       "  </tbody>\n",
       "</table>\n",
       "</div>"
      ],
      "text/plain": [
       "         ciudad        estado      pais habitación  precio\n",
       "0        Cancun  Quintana Roo    México      doble    3250\n",
       "1  Barranquilla     Atlántico  Colombia   sencilla    1500\n",
       "2      Portland        Oregon       USA   sencilla    2500"
      ]
     },
     "execution_count": 13,
     "metadata": {},
     "output_type": "execute_result"
    }
   ],
   "source": [
    "#.loc[] para seleccionar las columnas de 'ciudad' a 'precio' (inclusivo)\n",
    "hoteles.loc[:,'ciudad':'precio']"
   ]
  },
  {
   "cell_type": "markdown",
   "metadata": {},
   "source": [
    "### Eliminación"
   ]
  },
  {
   "cell_type": "markdown",
   "metadata": {},
   "source": [
    "Para eliminar una columna en pandas se utiliza la función *\"drop\"*. <br>\n",
    "Ésta recibe como parámetro el nombre de la columna (o lista de columnas) que deseamos eliminar. <br>\n",
    "También es necesario que uses el parámetro *axis=1*, para indicar que lo que se va a borrar es una columna."
   ]
  },
  {
   "cell_type": "code",
   "execution_count": 14,
   "metadata": {},
   "outputs": [
    {
     "data": {
      "text/html": [
       "<div>\n",
       "<style scoped>\n",
       "    .dataframe tbody tr th:only-of-type {\n",
       "        vertical-align: middle;\n",
       "    }\n",
       "\n",
       "    .dataframe tbody tr th {\n",
       "        vertical-align: top;\n",
       "    }\n",
       "\n",
       "    .dataframe thead th {\n",
       "        text-align: right;\n",
       "    }\n",
       "</style>\n",
       "<table border=\"1\" class=\"dataframe\">\n",
       "  <thead>\n",
       "    <tr style=\"text-align: right;\">\n",
       "      <th></th>\n",
       "      <th>nombre</th>\n",
       "      <th>ciudad</th>\n",
       "      <th>estado</th>\n",
       "      <th>pais</th>\n",
       "      <th>habitación</th>\n",
       "      <th>precio</th>\n",
       "      <th>playa</th>\n",
       "    </tr>\n",
       "  </thead>\n",
       "  <tbody>\n",
       "    <tr>\n",
       "      <th>0</th>\n",
       "      <td>Gran X</td>\n",
       "      <td>Cancun</td>\n",
       "      <td>Quintana Roo</td>\n",
       "      <td>México</td>\n",
       "      <td>doble</td>\n",
       "      <td>3250</td>\n",
       "      <td>1</td>\n",
       "    </tr>\n",
       "    <tr>\n",
       "      <th>1</th>\n",
       "      <td>Colonial</td>\n",
       "      <td>Barranquilla</td>\n",
       "      <td>Atlántico</td>\n",
       "      <td>Colombia</td>\n",
       "      <td>sencilla</td>\n",
       "      <td>1500</td>\n",
       "      <td>0</td>\n",
       "    </tr>\n",
       "    <tr>\n",
       "      <th>2</th>\n",
       "      <td>The Bridge</td>\n",
       "      <td>Portland</td>\n",
       "      <td>Oregon</td>\n",
       "      <td>USA</td>\n",
       "      <td>sencilla</td>\n",
       "      <td>2500</td>\n",
       "      <td>0</td>\n",
       "    </tr>\n",
       "  </tbody>\n",
       "</table>\n",
       "</div>"
      ],
      "text/plain": [
       "       nombre        ciudad        estado      pais habitación  precio playa\n",
       "0      Gran X        Cancun  Quintana Roo    México      doble    3250     1\n",
       "1    Colonial  Barranquilla     Atlántico  Colombia   sencilla    1500     0\n",
       "2  The Bridge      Portland        Oregon       USA   sencilla    2500     0"
      ]
     },
     "execution_count": 14,
     "metadata": {},
     "output_type": "execute_result"
    }
   ],
   "source": [
    "nuevo_df = hoteles.drop('estrellas', axis=1)\n",
    "nuevo_df"
   ]
  },
  {
   "cell_type": "markdown",
   "metadata": {},
   "source": [
    "El frame *hoteles* queda sin cambio, por eso lo tenemos que guardar en *nuevo_frame*. <br>\n",
    "Si queremos que se guarde en el mismo frame *hoteles* hay dos formas:"
   ]
  },
  {
   "cell_type": "code",
   "execution_count": null,
   "metadata": {},
   "outputs": [],
   "source": [
    "#Asignando el resultado a hoteles:\n",
    "hoteles = hoteles.drop(\"estrellas\", axis=1)\n",
    "# Usando el parámetro inplace=True:\n",
    "hoteles.drop(\"estrellas\", axis=1, inplace=True)"
   ]
  },
  {
   "cell_type": "markdown",
   "metadata": {},
   "source": [
    "Si se desean borrar varias columnas es necesario que se le pase una lista con los nombres de las columnas que se desean borrar, sin importar el orden."
   ]
  },
  {
   "cell_type": "code",
   "execution_count": 16,
   "metadata": {},
   "outputs": [
    {
     "data": {
      "text/html": [
       "<div>\n",
       "<style scoped>\n",
       "    .dataframe tbody tr th:only-of-type {\n",
       "        vertical-align: middle;\n",
       "    }\n",
       "\n",
       "    .dataframe tbody tr th {\n",
       "        vertical-align: top;\n",
       "    }\n",
       "\n",
       "    .dataframe thead th {\n",
       "        text-align: right;\n",
       "    }\n",
       "</style>\n",
       "<table border=\"1\" class=\"dataframe\">\n",
       "  <thead>\n",
       "    <tr style=\"text-align: right;\">\n",
       "      <th></th>\n",
       "      <th>nombre</th>\n",
       "      <th>ciudad</th>\n",
       "      <th>estado</th>\n",
       "      <th>pais</th>\n",
       "      <th>habitación</th>\n",
       "    </tr>\n",
       "  </thead>\n",
       "  <tbody>\n",
       "    <tr>\n",
       "      <th>0</th>\n",
       "      <td>Gran X</td>\n",
       "      <td>Cancun</td>\n",
       "      <td>Quintana Roo</td>\n",
       "      <td>México</td>\n",
       "      <td>doble</td>\n",
       "    </tr>\n",
       "    <tr>\n",
       "      <th>1</th>\n",
       "      <td>Colonial</td>\n",
       "      <td>Barranquilla</td>\n",
       "      <td>Atlántico</td>\n",
       "      <td>Colombia</td>\n",
       "      <td>sencilla</td>\n",
       "    </tr>\n",
       "    <tr>\n",
       "      <th>2</th>\n",
       "      <td>The Bridge</td>\n",
       "      <td>Portland</td>\n",
       "      <td>Oregon</td>\n",
       "      <td>USA</td>\n",
       "      <td>sencilla</td>\n",
       "    </tr>\n",
       "  </tbody>\n",
       "</table>\n",
       "</div>"
      ],
      "text/plain": [
       "       nombre        ciudad        estado      pais habitación\n",
       "0      Gran X        Cancun  Quintana Roo    México      doble\n",
       "1    Colonial  Barranquilla     Atlántico  Colombia   sencilla\n",
       "2  The Bridge      Portland        Oregon       USA   sencilla"
      ]
     },
     "execution_count": 16,
     "metadata": {},
     "output_type": "execute_result"
    }
   ],
   "source": [
    "nuevo_frame = hoteles.drop(['playa', 'precio'], axis=1)\n",
    "nuevo_frame"
   ]
  },
  {
   "cell_type": "markdown",
   "metadata": {},
   "source": [
    "Una alternativa es usar el parámetro *columns* seguido del nombre de la columna que se desea borrar. <br>\n",
    "Este tiene la ventaja que ya no se requiere usar el parámetro *axis*."
   ]
  },
  {
   "cell_type": "code",
   "execution_count": null,
   "metadata": {},
   "outputs": [],
   "source": [
    "# Para una coluna\n",
    "nuevo_frame = hoteles.drop(columns='precio')\n",
    "\n",
    "# Para varias \n",
    "nuevo_frame = hoteles.drop(columns=['precio','estrellas'])\n",
    "\n",
    "nuevo_frame"
   ]
  },
  {
   "cell_type": "markdown",
   "metadata": {},
   "source": [
    "El método *drop* también nos sirve para eliminar renglones:"
   ]
  },
  {
   "cell_type": "code",
   "execution_count": 18,
   "metadata": {},
   "outputs": [
    {
     "data": {
      "text/html": [
       "<div>\n",
       "<style scoped>\n",
       "    .dataframe tbody tr th:only-of-type {\n",
       "        vertical-align: middle;\n",
       "    }\n",
       "\n",
       "    .dataframe tbody tr th {\n",
       "        vertical-align: top;\n",
       "    }\n",
       "\n",
       "    .dataframe thead th {\n",
       "        text-align: right;\n",
       "    }\n",
       "</style>\n",
       "<table border=\"1\" class=\"dataframe\">\n",
       "  <thead>\n",
       "    <tr style=\"text-align: right;\">\n",
       "      <th></th>\n",
       "      <th>nombre</th>\n",
       "      <th>ciudad</th>\n",
       "      <th>estado</th>\n",
       "      <th>pais</th>\n",
       "      <th>habitación</th>\n",
       "      <th>precio</th>\n",
       "      <th>playa</th>\n",
       "    </tr>\n",
       "  </thead>\n",
       "  <tbody>\n",
       "    <tr>\n",
       "      <th>0</th>\n",
       "      <td>Gran X</td>\n",
       "      <td>Cancun</td>\n",
       "      <td>Quintana Roo</td>\n",
       "      <td>México</td>\n",
       "      <td>doble</td>\n",
       "      <td>3250</td>\n",
       "      <td>1</td>\n",
       "    </tr>\n",
       "    <tr>\n",
       "      <th>2</th>\n",
       "      <td>The Bridge</td>\n",
       "      <td>Portland</td>\n",
       "      <td>Oregon</td>\n",
       "      <td>USA</td>\n",
       "      <td>sencilla</td>\n",
       "      <td>2500</td>\n",
       "      <td>0</td>\n",
       "    </tr>\n",
       "  </tbody>\n",
       "</table>\n",
       "</div>"
      ],
      "text/plain": [
       "       nombre    ciudad        estado    pais habitación  precio playa\n",
       "0      Gran X    Cancun  Quintana Roo  México      doble    3250     1\n",
       "2  The Bridge  Portland        Oregon     USA   sencilla    2500     0"
      ]
     },
     "execution_count": 18,
     "metadata": {},
     "output_type": "execute_result"
    }
   ],
   "source": [
    "#Donde 1 es el número de renglón y axis=0 es el parámetro selector de renglones\n",
    "hoteles.drop(1,axis=0)"
   ]
  },
  {
   "cell_type": "code",
   "execution_count": 19,
   "metadata": {},
   "outputs": [
    {
     "data": {
      "text/html": [
       "<div>\n",
       "<style scoped>\n",
       "    .dataframe tbody tr th:only-of-type {\n",
       "        vertical-align: middle;\n",
       "    }\n",
       "\n",
       "    .dataframe tbody tr th {\n",
       "        vertical-align: top;\n",
       "    }\n",
       "\n",
       "    .dataframe thead th {\n",
       "        text-align: right;\n",
       "    }\n",
       "</style>\n",
       "<table border=\"1\" class=\"dataframe\">\n",
       "  <thead>\n",
       "    <tr style=\"text-align: right;\">\n",
       "      <th></th>\n",
       "      <th>nombre</th>\n",
       "      <th>ciudad</th>\n",
       "      <th>estado</th>\n",
       "      <th>pais</th>\n",
       "      <th>habitación</th>\n",
       "      <th>precio</th>\n",
       "      <th>playa</th>\n",
       "    </tr>\n",
       "  </thead>\n",
       "  <tbody>\n",
       "    <tr>\n",
       "      <th>1</th>\n",
       "      <td>Colonial</td>\n",
       "      <td>Barranquilla</td>\n",
       "      <td>Atlántico</td>\n",
       "      <td>Colombia</td>\n",
       "      <td>sencilla</td>\n",
       "      <td>1500</td>\n",
       "      <td>0</td>\n",
       "    </tr>\n",
       "  </tbody>\n",
       "</table>\n",
       "</div>"
      ],
      "text/plain": [
       "     nombre        ciudad     estado      pais habitación  precio playa\n",
       "1  Colonial  Barranquilla  Atlántico  Colombia   sencilla    1500     0"
      ]
     },
     "execution_count": 19,
     "metadata": {},
     "output_type": "execute_result"
    }
   ],
   "source": [
    "#Para eliminar varios renglones pasamos una lita de los mismos en el primér parámetro\n",
    "hoteles.drop([0,2],axis=0)"
   ]
  },
  {
   "cell_type": "markdown",
   "metadata": {},
   "source": [
    "### Cambio de nombres"
   ]
  },
  {
   "cell_type": "code",
   "execution_count": 20,
   "metadata": {},
   "outputs": [
    {
     "data": {
      "text/html": [
       "<div>\n",
       "<style scoped>\n",
       "    .dataframe tbody tr th:only-of-type {\n",
       "        vertical-align: middle;\n",
       "    }\n",
       "\n",
       "    .dataframe tbody tr th {\n",
       "        vertical-align: top;\n",
       "    }\n",
       "\n",
       "    .dataframe thead th {\n",
       "        text-align: right;\n",
       "    }\n",
       "</style>\n",
       "<table border=\"1\" class=\"dataframe\">\n",
       "  <thead>\n",
       "    <tr style=\"text-align: right;\">\n",
       "      <th></th>\n",
       "      <th>nombre</th>\n",
       "      <th>ciudad</th>\n",
       "      <th>estado</th>\n",
       "      <th>pais</th>\n",
       "      <th>habitación</th>\n",
       "      <th>PRECIO</th>\n",
       "      <th>playa</th>\n",
       "    </tr>\n",
       "  </thead>\n",
       "  <tbody>\n",
       "    <tr>\n",
       "      <th>0</th>\n",
       "      <td>Gran X</td>\n",
       "      <td>Cancun</td>\n",
       "      <td>Quintana Roo</td>\n",
       "      <td>México</td>\n",
       "      <td>doble</td>\n",
       "      <td>3250</td>\n",
       "      <td>1</td>\n",
       "    </tr>\n",
       "    <tr>\n",
       "      <th>1</th>\n",
       "      <td>Colonial</td>\n",
       "      <td>Barranquilla</td>\n",
       "      <td>Atlántico</td>\n",
       "      <td>Colombia</td>\n",
       "      <td>sencilla</td>\n",
       "      <td>1500</td>\n",
       "      <td>0</td>\n",
       "    </tr>\n",
       "    <tr>\n",
       "      <th>2</th>\n",
       "      <td>The Bridge</td>\n",
       "      <td>Portland</td>\n",
       "      <td>Oregon</td>\n",
       "      <td>USA</td>\n",
       "      <td>sencilla</td>\n",
       "      <td>2500</td>\n",
       "      <td>0</td>\n",
       "    </tr>\n",
       "  </tbody>\n",
       "</table>\n",
       "</div>"
      ],
      "text/plain": [
       "       nombre        ciudad        estado      pais habitación  PRECIO playa\n",
       "0      Gran X        Cancun  Quintana Roo    México      doble    3250     1\n",
       "1    Colonial  Barranquilla     Atlántico  Colombia   sencilla    1500     0\n",
       "2  The Bridge      Portland        Oregon       USA   sencilla    2500     0"
      ]
     },
     "execution_count": 20,
     "metadata": {},
     "output_type": "execute_result"
    }
   ],
   "source": [
    "#Para una o varias columnas, sólo debemos pasar un diccionario como parámetro dentreo de columns\n",
    "hoteles.rename(columns={'estrellas':'NO_ESTRELLAS', 'precio':'PRECIO'})"
   ]
  },
  {
   "cell_type": "markdown",
   "metadata": {},
   "source": [
    "### Adición de columnas a una tabla"
   ]
  },
  {
   "cell_type": "markdown",
   "metadata": {},
   "source": [
    "### Pegar/Concatenar"
   ]
  },
  {
   "cell_type": "markdown",
   "metadata": {},
   "source": [
    "La concatenación se puede hacer de dos formas:\n",
    "\n",
    "* Por renglones: Se pegan los renglones de un frame a otro.\n",
    "* Por columnas: Se pegan las columnas de un frame a otro. <br>\n",
    "\n",
    "Para pegar dos frames por *renglones*, los renglones de uno de ellos se pegan en el otro. <br>\n",
    "Para este caso, el *número de columnas de un frame debe coincidir con el número de columnas del otro.* <br>\n",
    "Además, las columnas de un frame deben contener las mismas características que las del otro y en el mismo orden, para que al momento de hacer el pegado los datos tengan sentido. "
   ]
  },
  {
   "cell_type": "markdown",
   "metadata": {},
   "source": [
    "#### Columnas"
   ]
  },
  {
   "cell_type": "code",
   "execution_count": 21,
   "metadata": {},
   "outputs": [
    {
     "data": {
      "text/html": [
       "<div>\n",
       "<style scoped>\n",
       "    .dataframe tbody tr th:only-of-type {\n",
       "        vertical-align: middle;\n",
       "    }\n",
       "\n",
       "    .dataframe tbody tr th {\n",
       "        vertical-align: top;\n",
       "    }\n",
       "\n",
       "    .dataframe thead th {\n",
       "        text-align: right;\n",
       "    }\n",
       "</style>\n",
       "<table border=\"1\" class=\"dataframe\">\n",
       "  <thead>\n",
       "    <tr style=\"text-align: right;\">\n",
       "      <th></th>\n",
       "      <th>Nombre</th>\n",
       "      <th>Examen</th>\n",
       "      <th>Poryecto</th>\n",
       "    </tr>\n",
       "  </thead>\n",
       "  <tbody>\n",
       "    <tr>\n",
       "      <th>0</th>\n",
       "      <td>Pailina</td>\n",
       "      <td>97</td>\n",
       "      <td>95</td>\n",
       "    </tr>\n",
       "    <tr>\n",
       "      <th>1</th>\n",
       "      <td>Norberto</td>\n",
       "      <td>85</td>\n",
       "      <td>95</td>\n",
       "    </tr>\n",
       "    <tr>\n",
       "      <th>2</th>\n",
       "      <td>Julia</td>\n",
       "      <td>86</td>\n",
       "      <td>90</td>\n",
       "    </tr>\n",
       "    <tr>\n",
       "      <th>3</th>\n",
       "      <td>Mario</td>\n",
       "      <td>91</td>\n",
       "      <td>90</td>\n",
       "    </tr>\n",
       "  </tbody>\n",
       "</table>\n",
       "</div>"
      ],
      "text/plain": [
       "     Nombre  Examen  Poryecto\n",
       "0   Pailina      97        95\n",
       "1  Norberto      85        95\n",
       "2     Julia      86        90\n",
       "3     Mario      91        90"
      ]
     },
     "execution_count": 21,
     "metadata": {},
     "output_type": "execute_result"
    }
   ],
   "source": [
    "data = {\n",
    "    'Nombre':['Pailina', 'Norberto', 'Julia', 'Mario'],\n",
    "    'Examen': [97,85,86,91],\n",
    "    'Poryecto': [95,95,90,90]\n",
    "}\n",
    "\n",
    "grupoDS = pd.DataFrame(data=data)\n",
    "grupoDS"
   ]
  },
  {
   "cell_type": "code",
   "execution_count": 22,
   "metadata": {},
   "outputs": [
    {
     "data": {
      "text/html": [
       "<div>\n",
       "<style scoped>\n",
       "    .dataframe tbody tr th:only-of-type {\n",
       "        vertical-align: middle;\n",
       "    }\n",
       "\n",
       "    .dataframe tbody tr th {\n",
       "        vertical-align: top;\n",
       "    }\n",
       "\n",
       "    .dataframe thead th {\n",
       "        text-align: right;\n",
       "    }\n",
       "</style>\n",
       "<table border=\"1\" class=\"dataframe\">\n",
       "  <thead>\n",
       "    <tr style=\"text-align: right;\">\n",
       "      <th></th>\n",
       "      <th>Nombre</th>\n",
       "      <th>Examen</th>\n",
       "      <th>Proyecto</th>\n",
       "    </tr>\n",
       "  </thead>\n",
       "  <tbody>\n",
       "    <tr>\n",
       "      <th>0</th>\n",
       "      <td>Ricardo</td>\n",
       "      <td>88</td>\n",
       "      <td>93</td>\n",
       "    </tr>\n",
       "    <tr>\n",
       "      <th>1</th>\n",
       "      <td>Fernanda</td>\n",
       "      <td>84</td>\n",
       "      <td>98</td>\n",
       "    </tr>\n",
       "  </tbody>\n",
       "</table>\n",
       "</div>"
      ],
      "text/plain": [
       "     Nombre  Examen  Proyecto\n",
       "0   Ricardo      88        93\n",
       "1  Fernanda      84        98"
      ]
     },
     "execution_count": 22,
     "metadata": {},
     "output_type": "execute_result"
    }
   ],
   "source": [
    "data = {\n",
    "    'Nombre':['Ricardo','Fernanda'],\n",
    "    'Examen':[88,84],\n",
    "    'Proyecto':[93,98]\n",
    "}\n",
    "\n",
    "otroGrupoDS = pd.DataFrame(data=data)\n",
    "otroGrupoDS"
   ]
  },
  {
   "cell_type": "markdown",
   "metadata": {},
   "source": [
    "La concatenación se hace con la instrucción concat de Pandas, que recibe como parámetro la lista que contiene los frame que se quieren concatenar y regresa como resultado un nuevo dataframe."
   ]
  },
  {
   "cell_type": "code",
   "execution_count": 23,
   "metadata": {},
   "outputs": [
    {
     "data": {
      "text/html": [
       "<div>\n",
       "<style scoped>\n",
       "    .dataframe tbody tr th:only-of-type {\n",
       "        vertical-align: middle;\n",
       "    }\n",
       "\n",
       "    .dataframe tbody tr th {\n",
       "        vertical-align: top;\n",
       "    }\n",
       "\n",
       "    .dataframe thead th {\n",
       "        text-align: right;\n",
       "    }\n",
       "</style>\n",
       "<table border=\"1\" class=\"dataframe\">\n",
       "  <thead>\n",
       "    <tr style=\"text-align: right;\">\n",
       "      <th></th>\n",
       "      <th>Nombre</th>\n",
       "      <th>Examen</th>\n",
       "      <th>Poryecto</th>\n",
       "      <th>Proyecto</th>\n",
       "    </tr>\n",
       "  </thead>\n",
       "  <tbody>\n",
       "    <tr>\n",
       "      <th>0</th>\n",
       "      <td>Pailina</td>\n",
       "      <td>97</td>\n",
       "      <td>95.0</td>\n",
       "      <td>NaN</td>\n",
       "    </tr>\n",
       "    <tr>\n",
       "      <th>1</th>\n",
       "      <td>Norberto</td>\n",
       "      <td>85</td>\n",
       "      <td>95.0</td>\n",
       "      <td>NaN</td>\n",
       "    </tr>\n",
       "    <tr>\n",
       "      <th>2</th>\n",
       "      <td>Julia</td>\n",
       "      <td>86</td>\n",
       "      <td>90.0</td>\n",
       "      <td>NaN</td>\n",
       "    </tr>\n",
       "    <tr>\n",
       "      <th>3</th>\n",
       "      <td>Mario</td>\n",
       "      <td>91</td>\n",
       "      <td>90.0</td>\n",
       "      <td>NaN</td>\n",
       "    </tr>\n",
       "    <tr>\n",
       "      <th>4</th>\n",
       "      <td>Ricardo</td>\n",
       "      <td>88</td>\n",
       "      <td>NaN</td>\n",
       "      <td>93.0</td>\n",
       "    </tr>\n",
       "    <tr>\n",
       "      <th>5</th>\n",
       "      <td>Fernanda</td>\n",
       "      <td>84</td>\n",
       "      <td>NaN</td>\n",
       "      <td>98.0</td>\n",
       "    </tr>\n",
       "  </tbody>\n",
       "</table>\n",
       "</div>"
      ],
      "text/plain": [
       "     Nombre  Examen  Poryecto  Proyecto\n",
       "0   Pailina      97      95.0       NaN\n",
       "1  Norberto      85      95.0       NaN\n",
       "2     Julia      86      90.0       NaN\n",
       "3     Mario      91      90.0       NaN\n",
       "4   Ricardo      88       NaN      93.0\n",
       "5  Fernanda      84       NaN      98.0"
      ]
     },
     "execution_count": 23,
     "metadata": {},
     "output_type": "execute_result"
    }
   ],
   "source": [
    "#La intrucción ignore_index=True nos asegura que el recuento del índice de nuestro dataframe\n",
    "df = pd.concat([grupoDS,otroGrupoDS],ignore_index=True)\n",
    "df"
   ]
  },
  {
   "cell_type": "markdown",
   "metadata": {},
   "source": [
    "Si los dataframes contiene datos diferentes, la función *concat* hace la concatenación en las columnas coincidentes y coloca a los datos fatntes un indicador *NAN*"
   ]
  },
  {
   "cell_type": "code",
   "execution_count": 24,
   "metadata": {},
   "outputs": [
    {
     "data": {
      "text/html": [
       "<div>\n",
       "<style scoped>\n",
       "    .dataframe tbody tr th:only-of-type {\n",
       "        vertical-align: middle;\n",
       "    }\n",
       "\n",
       "    .dataframe tbody tr th {\n",
       "        vertical-align: top;\n",
       "    }\n",
       "\n",
       "    .dataframe thead th {\n",
       "        text-align: right;\n",
       "    }\n",
       "</style>\n",
       "<table border=\"1\" class=\"dataframe\">\n",
       "  <thead>\n",
       "    <tr style=\"text-align: right;\">\n",
       "      <th></th>\n",
       "      <th>Nombre</th>\n",
       "      <th>Edad</th>\n",
       "      <th>Examen</th>\n",
       "    </tr>\n",
       "  </thead>\n",
       "  <tbody>\n",
       "    <tr>\n",
       "      <th>0</th>\n",
       "      <td>Victoria</td>\n",
       "      <td>23</td>\n",
       "      <td>78</td>\n",
       "    </tr>\n",
       "    <tr>\n",
       "      <th>1</th>\n",
       "      <td>Manuel</td>\n",
       "      <td>24</td>\n",
       "      <td>72</td>\n",
       "    </tr>\n",
       "  </tbody>\n",
       "</table>\n",
       "</div>"
      ],
      "text/plain": [
       "     Nombre  Edad  Examen\n",
       "0  Victoria    23      78\n",
       "1    Manuel    24      72"
      ]
     },
     "execution_count": 24,
     "metadata": {},
     "output_type": "execute_result"
    }
   ],
   "source": [
    "data = {\n",
    "    'Nombre':['Victoria', 'Manuel'],\n",
    "    'Edad':[23,24],\n",
    "    'Examen':[78,72]\n",
    "}\n",
    "\n",
    "otroGrupoDSOtrosDatos = pd.DataFrame(data=data)\n",
    "otroGrupoDSOtrosDatos"
   ]
  },
  {
   "cell_type": "code",
   "execution_count": 25,
   "metadata": {},
   "outputs": [
    {
     "data": {
      "text/html": [
       "<div>\n",
       "<style scoped>\n",
       "    .dataframe tbody tr th:only-of-type {\n",
       "        vertical-align: middle;\n",
       "    }\n",
       "\n",
       "    .dataframe tbody tr th {\n",
       "        vertical-align: top;\n",
       "    }\n",
       "\n",
       "    .dataframe thead th {\n",
       "        text-align: right;\n",
       "    }\n",
       "</style>\n",
       "<table border=\"1\" class=\"dataframe\">\n",
       "  <thead>\n",
       "    <tr style=\"text-align: right;\">\n",
       "      <th></th>\n",
       "      <th>Nombre</th>\n",
       "      <th>Examen</th>\n",
       "      <th>Poryecto</th>\n",
       "      <th>Proyecto</th>\n",
       "      <th>Edad</th>\n",
       "    </tr>\n",
       "  </thead>\n",
       "  <tbody>\n",
       "    <tr>\n",
       "      <th>0</th>\n",
       "      <td>Pailina</td>\n",
       "      <td>97</td>\n",
       "      <td>95.0</td>\n",
       "      <td>NaN</td>\n",
       "      <td>NaN</td>\n",
       "    </tr>\n",
       "    <tr>\n",
       "      <th>1</th>\n",
       "      <td>Norberto</td>\n",
       "      <td>85</td>\n",
       "      <td>95.0</td>\n",
       "      <td>NaN</td>\n",
       "      <td>NaN</td>\n",
       "    </tr>\n",
       "    <tr>\n",
       "      <th>2</th>\n",
       "      <td>Julia</td>\n",
       "      <td>86</td>\n",
       "      <td>90.0</td>\n",
       "      <td>NaN</td>\n",
       "      <td>NaN</td>\n",
       "    </tr>\n",
       "    <tr>\n",
       "      <th>3</th>\n",
       "      <td>Mario</td>\n",
       "      <td>91</td>\n",
       "      <td>90.0</td>\n",
       "      <td>NaN</td>\n",
       "      <td>NaN</td>\n",
       "    </tr>\n",
       "    <tr>\n",
       "      <th>4</th>\n",
       "      <td>Ricardo</td>\n",
       "      <td>88</td>\n",
       "      <td>NaN</td>\n",
       "      <td>93.0</td>\n",
       "      <td>NaN</td>\n",
       "    </tr>\n",
       "    <tr>\n",
       "      <th>5</th>\n",
       "      <td>Fernanda</td>\n",
       "      <td>84</td>\n",
       "      <td>NaN</td>\n",
       "      <td>98.0</td>\n",
       "      <td>NaN</td>\n",
       "    </tr>\n",
       "    <tr>\n",
       "      <th>6</th>\n",
       "      <td>Victoria</td>\n",
       "      <td>78</td>\n",
       "      <td>NaN</td>\n",
       "      <td>NaN</td>\n",
       "      <td>23.0</td>\n",
       "    </tr>\n",
       "    <tr>\n",
       "      <th>7</th>\n",
       "      <td>Manuel</td>\n",
       "      <td>72</td>\n",
       "      <td>NaN</td>\n",
       "      <td>NaN</td>\n",
       "      <td>24.0</td>\n",
       "    </tr>\n",
       "  </tbody>\n",
       "</table>\n",
       "</div>"
      ],
      "text/plain": [
       "     Nombre  Examen  Poryecto  Proyecto  Edad\n",
       "0   Pailina      97      95.0       NaN   NaN\n",
       "1  Norberto      85      95.0       NaN   NaN\n",
       "2     Julia      86      90.0       NaN   NaN\n",
       "3     Mario      91      90.0       NaN   NaN\n",
       "4   Ricardo      88       NaN      93.0   NaN\n",
       "5  Fernanda      84       NaN      98.0   NaN\n",
       "6  Victoria      78       NaN       NaN  23.0\n",
       "7    Manuel      72       NaN       NaN  24.0"
      ]
     },
     "execution_count": 25,
     "metadata": {},
     "output_type": "execute_result"
    }
   ],
   "source": [
    "pd.concat([df,otroGrupoDSOtrosDatos], ignore_index=True)"
   ]
  },
  {
   "cell_type": "markdown",
   "metadata": {},
   "source": [
    "##### NOTE: - *append* - Deprecated since version 1.4.0: Use *concat()* instead."
   ]
  },
  {
   "cell_type": "markdown",
   "metadata": {},
   "source": [
    "#### Renglones"
   ]
  },
  {
   "cell_type": "code",
   "execution_count": 26,
   "metadata": {},
   "outputs": [
    {
     "data": {
      "text/html": [
       "<div>\n",
       "<style scoped>\n",
       "    .dataframe tbody tr th:only-of-type {\n",
       "        vertical-align: middle;\n",
       "    }\n",
       "\n",
       "    .dataframe tbody tr th {\n",
       "        vertical-align: top;\n",
       "    }\n",
       "\n",
       "    .dataframe thead th {\n",
       "        text-align: right;\n",
       "    }\n",
       "</style>\n",
       "<table border=\"1\" class=\"dataframe\">\n",
       "  <thead>\n",
       "    <tr style=\"text-align: right;\">\n",
       "      <th></th>\n",
       "      <th>Apellido</th>\n",
       "      <th>Edad</th>\n",
       "    </tr>\n",
       "  </thead>\n",
       "  <tbody>\n",
       "    <tr>\n",
       "      <th>0</th>\n",
       "      <td>Pérez</td>\n",
       "      <td>23</td>\n",
       "    </tr>\n",
       "    <tr>\n",
       "      <th>1</th>\n",
       "      <td>López</td>\n",
       "      <td>26</td>\n",
       "    </tr>\n",
       "    <tr>\n",
       "      <th>2</th>\n",
       "      <td>Hernandez</td>\n",
       "      <td>25</td>\n",
       "    </tr>\n",
       "    <tr>\n",
       "      <th>3</th>\n",
       "      <td>García</td>\n",
       "      <td>24</td>\n",
       "    </tr>\n",
       "  </tbody>\n",
       "</table>\n",
       "</div>"
      ],
      "text/plain": [
       "    Apellido  Edad\n",
       "0      Pérez    23\n",
       "1      López    26\n",
       "2  Hernandez    25\n",
       "3     García    24"
      ]
     },
     "execution_count": 26,
     "metadata": {},
     "output_type": "execute_result"
    }
   ],
   "source": [
    "data = {\n",
    "    'Apellido':['Pérez', 'López', 'Hernandez', 'García'],\n",
    "    'Edad':[23,26,25,24]\n",
    "}\n",
    "\n",
    "grupoDSMasDatos = pd.DataFrame(data=data)\n",
    "grupoDSMasDatos"
   ]
  },
  {
   "cell_type": "code",
   "execution_count": 27,
   "metadata": {},
   "outputs": [
    {
     "data": {
      "text/html": [
       "<div>\n",
       "<style scoped>\n",
       "    .dataframe tbody tr th:only-of-type {\n",
       "        vertical-align: middle;\n",
       "    }\n",
       "\n",
       "    .dataframe tbody tr th {\n",
       "        vertical-align: top;\n",
       "    }\n",
       "\n",
       "    .dataframe thead th {\n",
       "        text-align: right;\n",
       "    }\n",
       "</style>\n",
       "<table border=\"1\" class=\"dataframe\">\n",
       "  <thead>\n",
       "    <tr style=\"text-align: right;\">\n",
       "      <th></th>\n",
       "      <th>Nombre</th>\n",
       "      <th>Examen</th>\n",
       "      <th>Poryecto</th>\n",
       "      <th>Apellido</th>\n",
       "      <th>Edad</th>\n",
       "    </tr>\n",
       "  </thead>\n",
       "  <tbody>\n",
       "    <tr>\n",
       "      <th>0</th>\n",
       "      <td>Pailina</td>\n",
       "      <td>97</td>\n",
       "      <td>95</td>\n",
       "      <td>Pérez</td>\n",
       "      <td>23</td>\n",
       "    </tr>\n",
       "    <tr>\n",
       "      <th>1</th>\n",
       "      <td>Norberto</td>\n",
       "      <td>85</td>\n",
       "      <td>95</td>\n",
       "      <td>López</td>\n",
       "      <td>26</td>\n",
       "    </tr>\n",
       "    <tr>\n",
       "      <th>2</th>\n",
       "      <td>Julia</td>\n",
       "      <td>86</td>\n",
       "      <td>90</td>\n",
       "      <td>Hernandez</td>\n",
       "      <td>25</td>\n",
       "    </tr>\n",
       "    <tr>\n",
       "      <th>3</th>\n",
       "      <td>Mario</td>\n",
       "      <td>91</td>\n",
       "      <td>90</td>\n",
       "      <td>García</td>\n",
       "      <td>24</td>\n",
       "    </tr>\n",
       "  </tbody>\n",
       "</table>\n",
       "</div>"
      ],
      "text/plain": [
       "     Nombre  Examen  Poryecto   Apellido  Edad\n",
       "0   Pailina      97        95      Pérez    23\n",
       "1  Norberto      85        95      López    26\n",
       "2     Julia      86        90  Hernandez    25\n",
       "3     Mario      91        90     García    24"
      ]
     },
     "execution_count": 27,
     "metadata": {},
     "output_type": "execute_result"
    }
   ],
   "source": [
    "pd.concat([grupoDS,grupoDSMasDatos], axis=1)"
   ]
  },
  {
   "cell_type": "code",
   "execution_count": 28,
   "metadata": {},
   "outputs": [
    {
     "data": {
      "text/html": [
       "<div>\n",
       "<style scoped>\n",
       "    .dataframe tbody tr th:only-of-type {\n",
       "        vertical-align: middle;\n",
       "    }\n",
       "\n",
       "    .dataframe tbody tr th {\n",
       "        vertical-align: top;\n",
       "    }\n",
       "\n",
       "    .dataframe thead th {\n",
       "        text-align: right;\n",
       "    }\n",
       "</style>\n",
       "<table border=\"1\" class=\"dataframe\">\n",
       "  <thead>\n",
       "    <tr style=\"text-align: right;\">\n",
       "      <th></th>\n",
       "      <th>Nombre</th>\n",
       "      <th>Examen</th>\n",
       "      <th>Poryecto</th>\n",
       "      <th>Apellido</th>\n",
       "    </tr>\n",
       "  </thead>\n",
       "  <tbody>\n",
       "    <tr>\n",
       "      <th>0</th>\n",
       "      <td>Pailina</td>\n",
       "      <td>97</td>\n",
       "      <td>95</td>\n",
       "      <td>Pérez</td>\n",
       "    </tr>\n",
       "    <tr>\n",
       "      <th>1</th>\n",
       "      <td>Norberto</td>\n",
       "      <td>85</td>\n",
       "      <td>95</td>\n",
       "      <td>López</td>\n",
       "    </tr>\n",
       "    <tr>\n",
       "      <th>2</th>\n",
       "      <td>Julia</td>\n",
       "      <td>86</td>\n",
       "      <td>90</td>\n",
       "      <td>Hernandez</td>\n",
       "    </tr>\n",
       "    <tr>\n",
       "      <th>3</th>\n",
       "      <td>Mario</td>\n",
       "      <td>91</td>\n",
       "      <td>90</td>\n",
       "      <td>García</td>\n",
       "    </tr>\n",
       "  </tbody>\n",
       "</table>\n",
       "</div>"
      ],
      "text/plain": [
       "     Nombre  Examen  Poryecto   Apellido\n",
       "0   Pailina      97        95      Pérez\n",
       "1  Norberto      85        95      López\n",
       "2     Julia      86        90  Hernandez\n",
       "3     Mario      91        90     García"
      ]
     },
     "execution_count": 28,
     "metadata": {},
     "output_type": "execute_result"
    }
   ],
   "source": [
    "#En caso de querer concatenar solo algunas columnas:\n",
    "pd.concat([grupoDS,grupoDSMasDatos['Apellido']], axis=1)"
   ]
  },
  {
   "cell_type": "markdown",
   "metadata": {},
   "source": [
    "### Nueva"
   ]
  },
  {
   "cell_type": "code",
   "execution_count": null,
   "metadata": {},
   "outputs": [],
   "source": [
    "#Asignación calculada\n",
    "grupoDS['Final'] = (grupoDS['Examen']*0.5)+(grupoDS['Proyecto']*0.5)\n",
    "grupoDS"
   ]
  },
  {
   "cell_type": "code",
   "execution_count": 32,
   "metadata": {},
   "outputs": [
    {
     "data": {
      "text/html": [
       "<div>\n",
       "<style scoped>\n",
       "    .dataframe tbody tr th:only-of-type {\n",
       "        vertical-align: middle;\n",
       "    }\n",
       "\n",
       "    .dataframe tbody tr th {\n",
       "        vertical-align: top;\n",
       "    }\n",
       "\n",
       "    .dataframe thead th {\n",
       "        text-align: right;\n",
       "    }\n",
       "</style>\n",
       "<table border=\"1\" class=\"dataframe\">\n",
       "  <thead>\n",
       "    <tr style=\"text-align: right;\">\n",
       "      <th></th>\n",
       "      <th>Nombre</th>\n",
       "      <th>Examen</th>\n",
       "      <th>Poryecto</th>\n",
       "      <th>Grupo</th>\n",
       "    </tr>\n",
       "  </thead>\n",
       "  <tbody>\n",
       "    <tr>\n",
       "      <th>0</th>\n",
       "      <td>Pailina</td>\n",
       "      <td>97</td>\n",
       "      <td>95</td>\n",
       "      <td>1</td>\n",
       "    </tr>\n",
       "    <tr>\n",
       "      <th>1</th>\n",
       "      <td>Norberto</td>\n",
       "      <td>85</td>\n",
       "      <td>95</td>\n",
       "      <td>1</td>\n",
       "    </tr>\n",
       "    <tr>\n",
       "      <th>2</th>\n",
       "      <td>Julia</td>\n",
       "      <td>86</td>\n",
       "      <td>90</td>\n",
       "      <td>1</td>\n",
       "    </tr>\n",
       "    <tr>\n",
       "      <th>3</th>\n",
       "      <td>Mario</td>\n",
       "      <td>91</td>\n",
       "      <td>90</td>\n",
       "      <td>1</td>\n",
       "    </tr>\n",
       "  </tbody>\n",
       "</table>\n",
       "</div>"
      ],
      "text/plain": [
       "     Nombre  Examen  Poryecto  Grupo\n",
       "0   Pailina      97        95      1\n",
       "1  Norberto      85        95      1\n",
       "2     Julia      86        90      1\n",
       "3     Mario      91        90      1"
      ]
     },
     "execution_count": 32,
     "metadata": {},
     "output_type": "execute_result"
    }
   ],
   "source": [
    "#Asignación fija\n",
    "grupoDS['Grupo'] = 1\n",
    "grupoDS"
   ]
  },
  {
   "cell_type": "code",
   "execution_count": 33,
   "metadata": {},
   "outputs": [
    {
     "data": {
      "text/html": [
       "<div>\n",
       "<style scoped>\n",
       "    .dataframe tbody tr th:only-of-type {\n",
       "        vertical-align: middle;\n",
       "    }\n",
       "\n",
       "    .dataframe tbody tr th {\n",
       "        vertical-align: top;\n",
       "    }\n",
       "\n",
       "    .dataframe thead th {\n",
       "        text-align: right;\n",
       "    }\n",
       "</style>\n",
       "<table border=\"1\" class=\"dataframe\">\n",
       "  <thead>\n",
       "    <tr style=\"text-align: right;\">\n",
       "      <th></th>\n",
       "      <th>Nombre</th>\n",
       "      <th>Examen</th>\n",
       "      <th>Poryecto</th>\n",
       "      <th>Grupo</th>\n",
       "      <th>Apellido</th>\n",
       "    </tr>\n",
       "  </thead>\n",
       "  <tbody>\n",
       "    <tr>\n",
       "      <th>0</th>\n",
       "      <td>Pailina</td>\n",
       "      <td>97</td>\n",
       "      <td>95</td>\n",
       "      <td>1</td>\n",
       "      <td>Pérez</td>\n",
       "    </tr>\n",
       "    <tr>\n",
       "      <th>1</th>\n",
       "      <td>Norberto</td>\n",
       "      <td>85</td>\n",
       "      <td>95</td>\n",
       "      <td>1</td>\n",
       "      <td>López</td>\n",
       "    </tr>\n",
       "    <tr>\n",
       "      <th>2</th>\n",
       "      <td>Julia</td>\n",
       "      <td>86</td>\n",
       "      <td>90</td>\n",
       "      <td>1</td>\n",
       "      <td>Hernández</td>\n",
       "    </tr>\n",
       "    <tr>\n",
       "      <th>3</th>\n",
       "      <td>Mario</td>\n",
       "      <td>91</td>\n",
       "      <td>90</td>\n",
       "      <td>1</td>\n",
       "      <td>García</td>\n",
       "    </tr>\n",
       "  </tbody>\n",
       "</table>\n",
       "</div>"
      ],
      "text/plain": [
       "     Nombre  Examen  Poryecto  Grupo   Apellido\n",
       "0   Pailina      97        95      1      Pérez\n",
       "1  Norberto      85        95      1      López\n",
       "2     Julia      86        90      1  Hernández\n",
       "3     Mario      91        90      1     García"
      ]
     },
     "execution_count": 33,
     "metadata": {},
     "output_type": "execute_result"
    }
   ],
   "source": [
    "#Asignación determinada \n",
    "grupoDS['Apellido']=['Pérez', 'López', 'Hernández', 'García']\n",
    "grupoDS"
   ]
  },
  {
   "cell_type": "code",
   "execution_count": null,
   "metadata": {},
   "outputs": [],
   "source": [
    "#Ordfenamiento del dataframe \n",
    "grupoDS = grupoDS[['Nombre', 'Apellido', 'Grupo', 'Examen', 'Proyecto', 'Final']]\n",
    "grupoDS"
   ]
  },
  {
   "cell_type": "markdown",
   "metadata": {},
   "source": [
    "#### Métodos *insert* y *assign*"
   ]
  },
  {
   "cell_type": "markdown",
   "metadata": {},
   "source": [
    "Existen dos métodos de los frames de Pandas que te permiten agregar una columna con valores: *insert* y *assign*.<br>\n",
    "El método *assign* funciona igual que la asignación que vimos anteriormente y agrega la columna al final del frame. Por ejemplo, si a nuestro frame original *grupoDS* de cuatro alumnos, le queremos agregar la columna Apellido se hace de la siguiente forma:"
   ]
  },
  {
   "cell_type": "code",
   "execution_count": null,
   "metadata": {},
   "outputs": [
    {
     "data": {
      "text/html": [
       "<div>\n",
       "<style scoped>\n",
       "    .dataframe tbody tr th:only-of-type {\n",
       "        vertical-align: middle;\n",
       "    }\n",
       "\n",
       "    .dataframe tbody tr th {\n",
       "        vertical-align: top;\n",
       "    }\n",
       "\n",
       "    .dataframe thead th {\n",
       "        text-align: right;\n",
       "    }\n",
       "</style>\n",
       "<table border=\"1\" class=\"dataframe\">\n",
       "  <thead>\n",
       "    <tr style=\"text-align: right;\">\n",
       "      <th></th>\n",
       "      <th>Nombre</th>\n",
       "      <th>Apellido</th>\n",
       "      <th>Grupo</th>\n",
       "      <th>Examen</th>\n",
       "      <th>Proyecto</th>\n",
       "      <th>Final</th>\n",
       "    </tr>\n",
       "  </thead>\n",
       "  <tbody>\n",
       "    <tr>\n",
       "      <th>0</th>\n",
       "      <td>Paulina</td>\n",
       "      <td>Pérez</td>\n",
       "      <td>1</td>\n",
       "      <td>97</td>\n",
       "      <td>95</td>\n",
       "      <td>96.0</td>\n",
       "    </tr>\n",
       "    <tr>\n",
       "      <th>1</th>\n",
       "      <td>Norberto</td>\n",
       "      <td>López</td>\n",
       "      <td>1</td>\n",
       "      <td>85</td>\n",
       "      <td>95</td>\n",
       "      <td>90.0</td>\n",
       "    </tr>\n",
       "    <tr>\n",
       "      <th>2</th>\n",
       "      <td>Julia</td>\n",
       "      <td>Hernández</td>\n",
       "      <td>1</td>\n",
       "      <td>86</td>\n",
       "      <td>90</td>\n",
       "      <td>88.0</td>\n",
       "    </tr>\n",
       "    <tr>\n",
       "      <th>3</th>\n",
       "      <td>Mario</td>\n",
       "      <td>García</td>\n",
       "      <td>1</td>\n",
       "      <td>91</td>\n",
       "      <td>90</td>\n",
       "      <td>90.5</td>\n",
       "    </tr>\n",
       "  </tbody>\n",
       "</table>\n",
       "</div>"
      ],
      "text/plain": [
       "     Nombre   Apellido  Grupo  Examen  Proyecto  Final\n",
       "0   Paulina      Pérez      1      97        95   96.0\n",
       "1  Norberto      López      1      85        95   90.0\n",
       "2     Julia  Hernández      1      86        90   88.0\n",
       "3     Mario     García      1      91        90   90.5"
      ]
     },
     "execution_count": 41,
     "metadata": {},
     "output_type": "execute_result"
    }
   ],
   "source": [
    "grupoDS.assign(Apellido = ['Pérez', 'López', 'Hernández', 'García'])"
   ]
  },
  {
   "cell_type": "markdown",
   "metadata": {},
   "source": [
    "El método *insert* tiene la ventaja que permite colocar una columna exactamente en el lugar que se requiera. \n",
    "Por ejemplo, si queremos agregar la columna *Apellido* a nuestro frame original *grupoDS*, pero inmediatamente después de la columna\n",
    "*Nombre*, esto es, en el lugar *1*,porque recuerda que la numeración inicia en *0*, la instrucción es la siguiente:"
   ]
  },
  {
   "cell_type": "code",
   "execution_count": null,
   "metadata": {},
   "outputs": [
    {
     "data": {
      "text/html": [
       "<div>\n",
       "<style scoped>\n",
       "    .dataframe tbody tr th:only-of-type {\n",
       "        vertical-align: middle;\n",
       "    }\n",
       "\n",
       "    .dataframe tbody tr th {\n",
       "        vertical-align: top;\n",
       "    }\n",
       "\n",
       "    .dataframe thead th {\n",
       "        text-align: right;\n",
       "    }\n",
       "</style>\n",
       "<table border=\"1\" class=\"dataframe\">\n",
       "  <thead>\n",
       "    <tr style=\"text-align: right;\">\n",
       "      <th></th>\n",
       "      <th>Nombre</th>\n",
       "      <th>Apellidos</th>\n",
       "      <th>Examen</th>\n",
       "      <th>Poryecto</th>\n",
       "    </tr>\n",
       "  </thead>\n",
       "  <tbody>\n",
       "    <tr>\n",
       "      <th>0</th>\n",
       "      <td>Pailina</td>\n",
       "      <td>Pérez</td>\n",
       "      <td>97</td>\n",
       "      <td>95</td>\n",
       "    </tr>\n",
       "    <tr>\n",
       "      <th>1</th>\n",
       "      <td>Norberto</td>\n",
       "      <td>López</td>\n",
       "      <td>85</td>\n",
       "      <td>95</td>\n",
       "    </tr>\n",
       "    <tr>\n",
       "      <th>2</th>\n",
       "      <td>Julia</td>\n",
       "      <td>Hernández</td>\n",
       "      <td>86</td>\n",
       "      <td>90</td>\n",
       "    </tr>\n",
       "    <tr>\n",
       "      <th>3</th>\n",
       "      <td>Mario</td>\n",
       "      <td>García</td>\n",
       "      <td>91</td>\n",
       "      <td>90</td>\n",
       "    </tr>\n",
       "  </tbody>\n",
       "</table>\n",
       "</div>"
      ],
      "text/plain": [
       "     Nombre  Apellidos  Examen  Poryecto\n",
       "0   Pailina      Pérez      97        95\n",
       "1  Norberto      López      85        95\n",
       "2     Julia  Hernández      86        90\n",
       "3     Mario     García      91        90"
      ]
     },
     "execution_count": 46,
     "metadata": {},
     "output_type": "execute_result"
    }
   ],
   "source": [
    "grupoDS.insert(1,\"Apellidos\",['Pérez', 'López', 'Hernández', 'García'])\n",
    "grupoDS"
   ]
  },
  {
   "cell_type": "markdown",
   "metadata": {},
   "source": [
    "## L3. Evaluación y Selección de Características"
   ]
  },
  {
   "cell_type": "markdown",
   "metadata": {},
   "source": [
    "### Métodos de selección basados en correlación"
   ]
  },
  {
   "cell_type": "markdown",
   "metadata": {},
   "source": [
    "#### Conjunto de datos\n",
    "Comúnmente cuando el conjunto de datos sí tiene una variable de salida, la tarea que se busca hacer es predecir su valor basado en el resto de las variables denominadas variables de entrada, teniendo los siguientes casos: *Pronóstico, Categoría, Clasificación, Análisis descriptivo*\n",
    "\n",
    "#### Correlación \n",
    "Se busca la correlación lineal positiva o negativa entre una variable de entrada y la variable de salida.\n",
    "\n",
    "#### Variables redundantes\n",
    "Se dice que dos variables son redundantes si el valor de una puede ser completamente explicado con la otra, es decir, si es la misma información la que está contenida completamente en ambas.\n",
    "\n",
    "#### Relación con la salida​\n",
    "Cuando existe una variable de salida es necesario llevar a cabo un tipo más de prueba para eliminar una variable, la cual consiste en ver su relación con la salida, es decir, qué tanto logra explicar una variable acerca de ella."
   ]
  },
  {
   "cell_type": "markdown",
   "metadata": {},
   "source": [
    "#### SelectKBest"
   ]
  },
  {
   "cell_type": "code",
   "execution_count": null,
   "metadata": {},
   "outputs": [
    {
     "data": {
      "text/html": [
       "<div>\n",
       "<style scoped>\n",
       "    .dataframe tbody tr th:only-of-type {\n",
       "        vertical-align: middle;\n",
       "    }\n",
       "\n",
       "    .dataframe tbody tr th {\n",
       "        vertical-align: top;\n",
       "    }\n",
       "\n",
       "    .dataframe thead th {\n",
       "        text-align: right;\n",
       "    }\n",
       "</style>\n",
       "<table border=\"1\" class=\"dataframe\">\n",
       "  <thead>\n",
       "    <tr style=\"text-align: right;\">\n",
       "      <th></th>\n",
       "      <th>pixel_0_0</th>\n",
       "      <th>pixel_0_1</th>\n",
       "      <th>pixel_0_2</th>\n",
       "      <th>pixel_0_3</th>\n",
       "      <th>pixel_0_4</th>\n",
       "      <th>pixel_0_5</th>\n",
       "      <th>pixel_0_6</th>\n",
       "      <th>pixel_0_7</th>\n",
       "      <th>pixel_1_0</th>\n",
       "      <th>pixel_1_1</th>\n",
       "      <th>...</th>\n",
       "      <th>pixel_6_6</th>\n",
       "      <th>pixel_6_7</th>\n",
       "      <th>pixel_7_0</th>\n",
       "      <th>pixel_7_1</th>\n",
       "      <th>pixel_7_2</th>\n",
       "      <th>pixel_7_3</th>\n",
       "      <th>pixel_7_4</th>\n",
       "      <th>pixel_7_5</th>\n",
       "      <th>pixel_7_6</th>\n",
       "      <th>pixel_7_7</th>\n",
       "    </tr>\n",
       "  </thead>\n",
       "  <tbody>\n",
       "    <tr>\n",
       "      <th>0</th>\n",
       "      <td>0.0</td>\n",
       "      <td>0.0</td>\n",
       "      <td>5.0</td>\n",
       "      <td>13.0</td>\n",
       "      <td>9.0</td>\n",
       "      <td>1.0</td>\n",
       "      <td>0.0</td>\n",
       "      <td>0.0</td>\n",
       "      <td>0.0</td>\n",
       "      <td>0.0</td>\n",
       "      <td>...</td>\n",
       "      <td>0.0</td>\n",
       "      <td>0.0</td>\n",
       "      <td>0.0</td>\n",
       "      <td>0.0</td>\n",
       "      <td>6.0</td>\n",
       "      <td>13.0</td>\n",
       "      <td>10.0</td>\n",
       "      <td>0.0</td>\n",
       "      <td>0.0</td>\n",
       "      <td>0.0</td>\n",
       "    </tr>\n",
       "    <tr>\n",
       "      <th>1</th>\n",
       "      <td>0.0</td>\n",
       "      <td>0.0</td>\n",
       "      <td>0.0</td>\n",
       "      <td>12.0</td>\n",
       "      <td>13.0</td>\n",
       "      <td>5.0</td>\n",
       "      <td>0.0</td>\n",
       "      <td>0.0</td>\n",
       "      <td>0.0</td>\n",
       "      <td>0.0</td>\n",
       "      <td>...</td>\n",
       "      <td>0.0</td>\n",
       "      <td>0.0</td>\n",
       "      <td>0.0</td>\n",
       "      <td>0.0</td>\n",
       "      <td>0.0</td>\n",
       "      <td>11.0</td>\n",
       "      <td>16.0</td>\n",
       "      <td>10.0</td>\n",
       "      <td>0.0</td>\n",
       "      <td>0.0</td>\n",
       "    </tr>\n",
       "    <tr>\n",
       "      <th>2</th>\n",
       "      <td>0.0</td>\n",
       "      <td>0.0</td>\n",
       "      <td>0.0</td>\n",
       "      <td>4.0</td>\n",
       "      <td>15.0</td>\n",
       "      <td>12.0</td>\n",
       "      <td>0.0</td>\n",
       "      <td>0.0</td>\n",
       "      <td>0.0</td>\n",
       "      <td>0.0</td>\n",
       "      <td>...</td>\n",
       "      <td>5.0</td>\n",
       "      <td>0.0</td>\n",
       "      <td>0.0</td>\n",
       "      <td>0.0</td>\n",
       "      <td>0.0</td>\n",
       "      <td>3.0</td>\n",
       "      <td>11.0</td>\n",
       "      <td>16.0</td>\n",
       "      <td>9.0</td>\n",
       "      <td>0.0</td>\n",
       "    </tr>\n",
       "    <tr>\n",
       "      <th>3</th>\n",
       "      <td>0.0</td>\n",
       "      <td>0.0</td>\n",
       "      <td>7.0</td>\n",
       "      <td>15.0</td>\n",
       "      <td>13.0</td>\n",
       "      <td>1.0</td>\n",
       "      <td>0.0</td>\n",
       "      <td>0.0</td>\n",
       "      <td>0.0</td>\n",
       "      <td>8.0</td>\n",
       "      <td>...</td>\n",
       "      <td>9.0</td>\n",
       "      <td>0.0</td>\n",
       "      <td>0.0</td>\n",
       "      <td>0.0</td>\n",
       "      <td>7.0</td>\n",
       "      <td>13.0</td>\n",
       "      <td>13.0</td>\n",
       "      <td>9.0</td>\n",
       "      <td>0.0</td>\n",
       "      <td>0.0</td>\n",
       "    </tr>\n",
       "    <tr>\n",
       "      <th>4</th>\n",
       "      <td>0.0</td>\n",
       "      <td>0.0</td>\n",
       "      <td>0.0</td>\n",
       "      <td>1.0</td>\n",
       "      <td>11.0</td>\n",
       "      <td>0.0</td>\n",
       "      <td>0.0</td>\n",
       "      <td>0.0</td>\n",
       "      <td>0.0</td>\n",
       "      <td>0.0</td>\n",
       "      <td>...</td>\n",
       "      <td>0.0</td>\n",
       "      <td>0.0</td>\n",
       "      <td>0.0</td>\n",
       "      <td>0.0</td>\n",
       "      <td>0.0</td>\n",
       "      <td>2.0</td>\n",
       "      <td>16.0</td>\n",
       "      <td>4.0</td>\n",
       "      <td>0.0</td>\n",
       "      <td>0.0</td>\n",
       "    </tr>\n",
       "  </tbody>\n",
       "</table>\n",
       "<p>5 rows × 64 columns</p>\n",
       "</div>"
      ],
      "text/plain": [
       "   pixel_0_0  pixel_0_1  pixel_0_2  pixel_0_3  pixel_0_4  pixel_0_5  \\\n",
       "0        0.0        0.0        5.0       13.0        9.0        1.0   \n",
       "1        0.0        0.0        0.0       12.0       13.0        5.0   \n",
       "2        0.0        0.0        0.0        4.0       15.0       12.0   \n",
       "3        0.0        0.0        7.0       15.0       13.0        1.0   \n",
       "4        0.0        0.0        0.0        1.0       11.0        0.0   \n",
       "\n",
       "   pixel_0_6  pixel_0_7  pixel_1_0  pixel_1_1  ...  pixel_6_6  pixel_6_7  \\\n",
       "0        0.0        0.0        0.0        0.0  ...        0.0        0.0   \n",
       "1        0.0        0.0        0.0        0.0  ...        0.0        0.0   \n",
       "2        0.0        0.0        0.0        0.0  ...        5.0        0.0   \n",
       "3        0.0        0.0        0.0        8.0  ...        9.0        0.0   \n",
       "4        0.0        0.0        0.0        0.0  ...        0.0        0.0   \n",
       "\n",
       "   pixel_7_0  pixel_7_1  pixel_7_2  pixel_7_3  pixel_7_4  pixel_7_5  \\\n",
       "0        0.0        0.0        6.0       13.0       10.0        0.0   \n",
       "1        0.0        0.0        0.0       11.0       16.0       10.0   \n",
       "2        0.0        0.0        0.0        3.0       11.0       16.0   \n",
       "3        0.0        0.0        7.0       13.0       13.0        9.0   \n",
       "4        0.0        0.0        0.0        2.0       16.0        4.0   \n",
       "\n",
       "   pixel_7_6  pixel_7_7  \n",
       "0        0.0        0.0  \n",
       "1        0.0        0.0  \n",
       "2        9.0        0.0  \n",
       "3        0.0        0.0  \n",
       "4        0.0        0.0  \n",
       "\n",
       "[5 rows x 64 columns]"
      ]
     },
     "execution_count": 53,
     "metadata": {},
     "output_type": "execute_result"
    }
   ],
   "source": [
    "from sklearn.datasets import load_digits\n",
    "\n",
    "X,y = load_digits(return_X_y=True, as_frame=True)\n",
    "X.head()"
   ]
  },
  {
   "cell_type": "code",
   "execution_count": null,
   "metadata": {},
   "outputs": [
    {
     "name": "stderr",
     "output_type": "stream",
     "text": [
      "/Library/Frameworks/Python.framework/Versions/3.12/lib/python3.12/site-packages/sklearn/feature_selection/_univariate_selection.py:112: UserWarning: Features [ 0 32 39] are constant.\n",
      "  warnings.warn(\"Features %s are constant.\" % constant_features_idx, UserWarning)\n",
      "/Library/Frameworks/Python.framework/Versions/3.12/lib/python3.12/site-packages/sklearn/feature_selection/_univariate_selection.py:113: RuntimeWarning: invalid value encountered in divide\n",
      "  f = msb / msw\n"
     ]
    },
    {
     "data": {
      "text/plain": [
       "array([[ 5., 13., 15., ...,  6., 10.,  0.],\n",
       "       [ 0.,  0.,  9., ...,  0., 16., 10.],\n",
       "       [ 0.,  3., 14., ...,  0., 11., 16.],\n",
       "       ...,\n",
       "       [ 1., 13.,  2., ...,  2., 13.,  6.],\n",
       "       [ 2., 14., 15., ...,  5., 16., 12.],\n",
       "       [10., 16.,  1., ...,  8., 14., 12.]])"
      ]
     },
     "metadata": {},
     "output_type": "display_data"
    },
    {
     "data": {
      "text/plain": [
       "array([[ 1.,  0., 15., ...,  6.,  0.,  0.],\n",
       "       [ 5.,  0.,  9., ...,  0., 10.,  0.],\n",
       "       [12.,  0., 14., ...,  0., 16.,  9.],\n",
       "       ...,\n",
       "       [ 1.,  0.,  2., ...,  2.,  6.,  0.],\n",
       "       [ 0.,  0., 15., ...,  5., 12.,  0.],\n",
       "       [ 1.,  0.,  1., ...,  8., 12.,  1.]])"
      ]
     },
     "metadata": {},
     "output_type": "display_data"
    }
   ],
   "source": [
    "from sklearn.feature_selection import SelectKBest, f_classif, chi2\n",
    "\n",
    "X_new_fc = SelectKBest(k=20).fit_transform(X, y)\n",
    "display(X_new_fc)\n",
    "X_new_chi = SelectKBest(chi2, k=20).fit_transform(X, y)\n",
    "display(X_new_chi)"
   ]
  },
  {
   "cell_type": "markdown",
   "metadata": {},
   "source": [
    "### Fast Correlation-Based Filtering"
   ]
  },
  {
   "cell_type": "markdown",
   "metadata": {},
   "source": [
    "Principios básicos:\n",
    "1. Eliminar variables que tienen poca correlación con la salida.\n",
    "2. Eliminar variables que tienen mucha correlación con otras variables.\n",
    "\n",
    "Pasos:\n",
    "1. Establecer un límite *lvs* (límite-variable-salida), para la correlación de una variable de entrada con la variable de salida.\n",
    "2. Obtener la correlación de cada variable de entrada contra la variable de salida.​\n",
    "3. Para cada variable de entrada, si el valor absoluto de su correlación con la variable de salida es menor que *lvs*, la variable se elimina.\n",
    "4. Establecer un límite *lev* (límite-entre-variables), para la correlación de una variable de entrada contra otra variable de entrada.\n",
    "5. Obtener la correlación de cada variable de entrada contra el resto de las variables de entrada.\n",
    "6. Para cada variable de entrada, si el valor absoluto de su correlación con otras variables de entrada es mayor que lev, se eliminan todas excepto la que tenga la mayor correlación con la salida, esto es, la que tenga el mayor valor absoluto de su correlación con la salida, la cual pasa al lugar de la variable actual y se continúa con las variables restantes.\n"
   ]
  },
  {
   "cell_type": "markdown",
   "metadata": {},
   "source": [
    "### Método automático de selección"
   ]
  },
  {
   "cell_type": "markdown",
   "metadata": {},
   "source": [
    "#### Regularización"
   ]
  },
  {
   "cell_type": "code",
   "execution_count": 35,
   "metadata": {},
   "outputs": [
    {
     "data": {
      "text/html": [
       "<div>\n",
       "<style scoped>\n",
       "    .dataframe tbody tr th:only-of-type {\n",
       "        vertical-align: middle;\n",
       "    }\n",
       "\n",
       "    .dataframe tbody tr th {\n",
       "        vertical-align: top;\n",
       "    }\n",
       "\n",
       "    .dataframe thead th {\n",
       "        text-align: right;\n",
       "    }\n",
       "</style>\n",
       "<table border=\"1\" class=\"dataframe\">\n",
       "  <thead>\n",
       "    <tr style=\"text-align: right;\">\n",
       "      <th></th>\n",
       "      <th>x1</th>\n",
       "      <th>x2</th>\n",
       "      <th>x3</th>\n",
       "      <th>x4</th>\n",
       "      <th>x5</th>\n",
       "      <th>x6</th>\n",
       "      <th>y</th>\n",
       "    </tr>\n",
       "  </thead>\n",
       "  <tbody>\n",
       "    <tr>\n",
       "      <th>0</th>\n",
       "      <td>0.8502</td>\n",
       "      <td>0.0565</td>\n",
       "      <td>0.4520</td>\n",
       "      <td>1.1858</td>\n",
       "      <td>0.9457</td>\n",
       "      <td>0.5869</td>\n",
       "      <td>6.1105</td>\n",
       "    </tr>\n",
       "    <tr>\n",
       "      <th>1</th>\n",
       "      <td>0.1671</td>\n",
       "      <td>0.8778</td>\n",
       "      <td>1.2652</td>\n",
       "      <td>0.5309</td>\n",
       "      <td>0.0283</td>\n",
       "      <td>0.4954</td>\n",
       "      <td>2.5446</td>\n",
       "    </tr>\n",
       "    <tr>\n",
       "      <th>2</th>\n",
       "      <td>0.4554</td>\n",
       "      <td>0.1847</td>\n",
       "      <td>0.5236</td>\n",
       "      <td>0.7904</td>\n",
       "      <td>0.0421</td>\n",
       "      <td>0.9099</td>\n",
       "      <td>3.3846</td>\n",
       "    </tr>\n",
       "    <tr>\n",
       "      <th>3</th>\n",
       "      <td>0.4425</td>\n",
       "      <td>0.7466</td>\n",
       "      <td>1.1417</td>\n",
       "      <td>0.7207</td>\n",
       "      <td>0.4572</td>\n",
       "      <td>0.7557</td>\n",
       "      <td>4.7790</td>\n",
       "    </tr>\n",
       "    <tr>\n",
       "      <th>4</th>\n",
       "      <td>0.7519</td>\n",
       "      <td>0.4453</td>\n",
       "      <td>0.8372</td>\n",
       "      <td>1.0813</td>\n",
       "      <td>0.0983</td>\n",
       "      <td>0.2540</td>\n",
       "      <td>3.1322</td>\n",
       "    </tr>\n",
       "    <tr>\n",
       "      <th>5</th>\n",
       "      <td>0.0462</td>\n",
       "      <td>0.7054</td>\n",
       "      <td>1.0567</td>\n",
       "      <td>0.3261</td>\n",
       "      <td>0.1978</td>\n",
       "      <td>0.1550</td>\n",
       "      <td>2.3630</td>\n",
       "    </tr>\n",
       "    <tr>\n",
       "      <th>6</th>\n",
       "      <td>0.3888</td>\n",
       "      <td>0.4721</td>\n",
       "      <td>0.8392</td>\n",
       "      <td>0.7679</td>\n",
       "      <td>0.8204</td>\n",
       "      <td>0.4904</td>\n",
       "      <td>5.1113</td>\n",
       "    </tr>\n",
       "    <tr>\n",
       "      <th>7</th>\n",
       "      <td>0.2380</td>\n",
       "      <td>0.0865</td>\n",
       "      <td>0.4098</td>\n",
       "      <td>0.5641</td>\n",
       "      <td>0.0193</td>\n",
       "      <td>0.7776</td>\n",
       "      <td>2.3292</td>\n",
       "    </tr>\n",
       "    <tr>\n",
       "      <th>8</th>\n",
       "      <td>0.8747</td>\n",
       "      <td>0.5971</td>\n",
       "      <td>0.8741</td>\n",
       "      <td>1.2283</td>\n",
       "      <td>0.6466</td>\n",
       "      <td>0.3221</td>\n",
       "      <td>5.5384</td>\n",
       "    </tr>\n",
       "    <tr>\n",
       "      <th>9</th>\n",
       "      <td>0.2031</td>\n",
       "      <td>0.7579</td>\n",
       "      <td>1.0619</td>\n",
       "      <td>0.6004</td>\n",
       "      <td>0.1009</td>\n",
       "      <td>0.1927</td>\n",
       "      <td>2.2473</td>\n",
       "    </tr>\n",
       "  </tbody>\n",
       "</table>\n",
       "</div>"
      ],
      "text/plain": [
       "       x1      x2      x3      x4      x5      x6       y\n",
       "0  0.8502  0.0565  0.4520  1.1858  0.9457  0.5869  6.1105\n",
       "1  0.1671  0.8778  1.2652  0.5309  0.0283  0.4954  2.5446\n",
       "2  0.4554  0.1847  0.5236  0.7904  0.0421  0.9099  3.3846\n",
       "3  0.4425  0.7466  1.1417  0.7207  0.4572  0.7557  4.7790\n",
       "4  0.7519  0.4453  0.8372  1.0813  0.0983  0.2540  3.1322\n",
       "5  0.0462  0.7054  1.0567  0.3261  0.1978  0.1550  2.3630\n",
       "6  0.3888  0.4721  0.8392  0.7679  0.8204  0.4904  5.1113\n",
       "7  0.2380  0.0865  0.4098  0.5641  0.0193  0.7776  2.3292\n",
       "8  0.8747  0.5971  0.8741  1.2283  0.6466  0.3221  5.5384\n",
       "9  0.2031  0.7579  1.0619  0.6004  0.1009  0.1927  2.2473"
      ]
     },
     "execution_count": 35,
     "metadata": {},
     "output_type": "execute_result"
    }
   ],
   "source": [
    "import pandas as pd\n",
    "\n",
    "data = {\n",
    "    'x1': [0.8502, 0.1671, 0.4554, 0.4425, 0.7519, 0.0462, 0.3888, 0.2380, 0.8747, 0.2031],\n",
    "    'x2': [0.0565, 0.8778, 0.1847, 0.7466, 0.4453, 0.7054, 0.4721, 0.0865, 0.5971, 0.7579],\n",
    "    'x3': [0.4520, 1.2652, 0.5236, 1.1417, 0.8372, 1.0567, 0.8392, 0.4098, 0.8741, 1.0619],\n",
    "    'x4': [1.1858, 0.5309, 0.7904, 0.7207, 1.0813, 0.3261, 0.7679, 0.5641, 1.2283, 0.6004],\n",
    "    'x5': [0.9457, 0.0283, 0.0421, 0.4572, 0.0983, 0.1978, 0.8204, 0.0193, 0.6466, 0.1009],\n",
    "    'x6': [0.5869, 0.4954, 0.9099, 0.7557, 0.2540, 0.1550, 0.4904, 0.7776, 0.3221, 0.1927],\n",
    "    'y': [6.1105, 2.5446, 3.3846, 4.7790, 3.1322, 2.3630, 5.1113, 2.3292, 5.5384, 2.2473]\n",
    "}\n",
    "\n",
    "df = pd.DataFrame(data)\n",
    "df"
   ]
  },
  {
   "cell_type": "code",
   "execution_count": 36,
   "metadata": {},
   "outputs": [
    {
     "data": {
      "text/plain": [
       "(array([ 0.77481187, -0.01221528,  0.15028092,  0.72240755,  2.05331293,\n",
       "         0.72208641]),\n",
       " 1.636182360366225,\n",
       " array([4.88556648, 2.7444228 ]))"
      ]
     },
     "execution_count": 36,
     "metadata": {},
     "output_type": "execute_result"
    }
   ],
   "source": [
    "from sklearn.linear_model import Ridge\n",
    "from sklearn.model_selection import train_test_split\n",
    "\n",
    "# Definir las variables X y y\n",
    "X = df[df.columns[0:6]]\n",
    "y = df['y']\n",
    "\n",
    "# Dividir los datos en conjuntos de entrenamiento y prueba\n",
    "X_train, X_test, y_train, y_test = train_test_split(X, y, test_size=0.2, random_state=42)\n",
    "\n",
    "# Crear el modelo de regresión Ridge con regularización\n",
    "ridge_reg = Ridge(alpha=0.5)\n",
    "\n",
    "# Entrenar el modelo\n",
    "ridge_reg.fit(X_train, y_train)\n",
    "\n",
    "# Obtener los coeficientes del modelo\n",
    "coef = ridge_reg.coef_\n",
    "intercept = ridge_reg.intercept_\n",
    "\n",
    "# Predecir los valores de y en el conjunto de prueba\n",
    "y_pred = ridge_reg.predict(X_test)\n",
    "\n",
    "coef, intercept, y_pred"
   ]
  },
  {
   "cell_type": "markdown",
   "metadata": {},
   "source": [
    "## L4. Creación de Características"
   ]
  },
  {
   "cell_type": "markdown",
   "metadata": {},
   "source": [
    "### Agrupamiento de datos"
   ]
  },
  {
   "cell_type": "code",
   "execution_count": 39,
   "metadata": {},
   "outputs": [
    {
     "data": {
      "text/html": [
       "<div>\n",
       "<style scoped>\n",
       "    .dataframe tbody tr th:only-of-type {\n",
       "        vertical-align: middle;\n",
       "    }\n",
       "\n",
       "    .dataframe tbody tr th {\n",
       "        vertical-align: top;\n",
       "    }\n",
       "\n",
       "    .dataframe thead th {\n",
       "        text-align: right;\n",
       "    }\n",
       "</style>\n",
       "<table border=\"1\" class=\"dataframe\">\n",
       "  <thead>\n",
       "    <tr style=\"text-align: right;\">\n",
       "      <th></th>\n",
       "      <th>unidades</th>\n",
       "      <th>importe</th>\n",
       "      <th>año</th>\n",
       "      <th>mes</th>\n",
       "      <th>día</th>\n",
       "      <th>díaSemana</th>\n",
       "    </tr>\n",
       "  </thead>\n",
       "  <tbody>\n",
       "    <tr>\n",
       "      <th>0</th>\n",
       "      <td>7</td>\n",
       "      <td>2268</td>\n",
       "      <td>2021</td>\n",
       "      <td>sep</td>\n",
       "      <td>5</td>\n",
       "      <td>sábado</td>\n",
       "    </tr>\n",
       "    <tr>\n",
       "      <th>1</th>\n",
       "      <td>13</td>\n",
       "      <td>4212</td>\n",
       "      <td>2021</td>\n",
       "      <td>sep</td>\n",
       "      <td>17</td>\n",
       "      <td>jueves</td>\n",
       "    </tr>\n",
       "    <tr>\n",
       "      <th>2</th>\n",
       "      <td>5</td>\n",
       "      <td>1620</td>\n",
       "      <td>2021</td>\n",
       "      <td>sep</td>\n",
       "      <td>28</td>\n",
       "      <td>lunes</td>\n",
       "    </tr>\n",
       "    <tr>\n",
       "      <th>3</th>\n",
       "      <td>21</td>\n",
       "      <td>6804</td>\n",
       "      <td>2021</td>\n",
       "      <td>oct</td>\n",
       "      <td>7</td>\n",
       "      <td>miércoles</td>\n",
       "    </tr>\n",
       "    <tr>\n",
       "      <th>4</th>\n",
       "      <td>11</td>\n",
       "      <td>3564</td>\n",
       "      <td>2021</td>\n",
       "      <td>oct</td>\n",
       "      <td>12</td>\n",
       "      <td>lunes</td>\n",
       "    </tr>\n",
       "  </tbody>\n",
       "</table>\n",
       "</div>"
      ],
      "text/plain": [
       "   unidades  importe   año  mes  día  díaSemana\n",
       "0         7     2268  2021  sep    5     sábado\n",
       "1        13     4212  2021  sep   17     jueves\n",
       "2         5     1620  2021  sep   28      lunes\n",
       "3        21     6804  2021  oct    7  miércoles\n",
       "4        11     3564  2021  oct   12      lunes"
      ]
     },
     "execution_count": 39,
     "metadata": {},
     "output_type": "execute_result"
    }
   ],
   "source": [
    "import pandas as pd\n",
    "\n",
    "data = {\n",
    "    \"unidades\": [7, 13, 5, 21, 11, 7, 16, 15, 11],\n",
    "    \"importe\": [2268, 4212, 1620, 6804, 3564, 2268, 5184, 4860, 3564],\n",
    "    \"año\": [2021, 2021, 2021, 2021, 2021, 2021, 2021, 2021, 2021],\n",
    "    \"mes\": [\"sep\", \"sep\", \"sep\", \"oct\", \"oct\", \"oct\", \"oct\", \"nov\", \"nov\"],\n",
    "    \"día\": [5, 17, 28, 7, 12, 13, 30, 3, 26],\n",
    "    \"díaSemana\": [\"sábado\", \"jueves\", \"lunes\", \"miércoles\", \"lunes\", \"martes\", \"viernes\", \"martes\", \"jueves\"]\n",
    "}\n",
    "\n",
    "ventas = pd.DataFrame(data)\n",
    "ventas.head()"
   ]
  },
  {
   "cell_type": "markdown",
   "metadata": {},
   "source": [
    "Si se desea agrupar el dataframe de ventas por mes, el resultado será un dataframe agrupado al cual se le pueden aplicar varios métodos específicos para trabajar con series o dataframes, siendo uno de ellos la *suma*."
   ]
  },
  {
   "cell_type": "code",
   "execution_count": 64,
   "metadata": {},
   "outputs": [
    {
     "data": {
      "text/html": [
       "<div>\n",
       "<style scoped>\n",
       "    .dataframe tbody tr th:only-of-type {\n",
       "        vertical-align: middle;\n",
       "    }\n",
       "\n",
       "    .dataframe tbody tr th {\n",
       "        vertical-align: top;\n",
       "    }\n",
       "\n",
       "    .dataframe thead th {\n",
       "        text-align: right;\n",
       "    }\n",
       "</style>\n",
       "<table border=\"1\" class=\"dataframe\">\n",
       "  <thead>\n",
       "    <tr style=\"text-align: right;\">\n",
       "      <th></th>\n",
       "      <th>unidades</th>\n",
       "      <th>importe</th>\n",
       "      <th>año</th>\n",
       "      <th>día</th>\n",
       "      <th>díaSemana</th>\n",
       "    </tr>\n",
       "    <tr>\n",
       "      <th>mes</th>\n",
       "      <th></th>\n",
       "      <th></th>\n",
       "      <th></th>\n",
       "      <th></th>\n",
       "      <th></th>\n",
       "    </tr>\n",
       "  </thead>\n",
       "  <tbody>\n",
       "    <tr>\n",
       "      <th>nov</th>\n",
       "      <td>26</td>\n",
       "      <td>8424</td>\n",
       "      <td>4042</td>\n",
       "      <td>29</td>\n",
       "      <td>martesjueves</td>\n",
       "    </tr>\n",
       "    <tr>\n",
       "      <th>oct</th>\n",
       "      <td>55</td>\n",
       "      <td>17820</td>\n",
       "      <td>8084</td>\n",
       "      <td>62</td>\n",
       "      <td>miércoleslunesmartesviernes</td>\n",
       "    </tr>\n",
       "    <tr>\n",
       "      <th>sep</th>\n",
       "      <td>25</td>\n",
       "      <td>8100</td>\n",
       "      <td>6063</td>\n",
       "      <td>50</td>\n",
       "      <td>sábadojueveslunes</td>\n",
       "    </tr>\n",
       "  </tbody>\n",
       "</table>\n",
       "</div>"
      ],
      "text/plain": [
       "     unidades  importe   año  día                    díaSemana\n",
       "mes                                                           \n",
       "nov        26     8424  4042   29                 martesjueves\n",
       "oct        55    17820  8084   62  miércoleslunesmartesviernes\n",
       "sep        25     8100  6063   50            sábadojueveslunes"
      ]
     },
     "execution_count": 64,
     "metadata": {},
     "output_type": "execute_result"
    }
   ],
   "source": [
    "ventas.groupby(['mes']).sum()"
   ]
  },
  {
   "cell_type": "code",
   "execution_count": 62,
   "metadata": {},
   "outputs": [
    {
     "data": {
      "text/html": [
       "<div>\n",
       "<style scoped>\n",
       "    .dataframe tbody tr th:only-of-type {\n",
       "        vertical-align: middle;\n",
       "    }\n",
       "\n",
       "    .dataframe tbody tr th {\n",
       "        vertical-align: top;\n",
       "    }\n",
       "\n",
       "    .dataframe thead th {\n",
       "        text-align: right;\n",
       "    }\n",
       "</style>\n",
       "<table border=\"1\" class=\"dataframe\">\n",
       "  <thead>\n",
       "    <tr style=\"text-align: right;\">\n",
       "      <th></th>\n",
       "      <th>unidades</th>\n",
       "      <th>importe</th>\n",
       "    </tr>\n",
       "    <tr>\n",
       "      <th>mes</th>\n",
       "      <th></th>\n",
       "      <th></th>\n",
       "    </tr>\n",
       "  </thead>\n",
       "  <tbody>\n",
       "    <tr>\n",
       "      <th>nov</th>\n",
       "      <td>26</td>\n",
       "      <td>8424</td>\n",
       "    </tr>\n",
       "    <tr>\n",
       "      <th>oct</th>\n",
       "      <td>55</td>\n",
       "      <td>17820</td>\n",
       "    </tr>\n",
       "    <tr>\n",
       "      <th>sep</th>\n",
       "      <td>25</td>\n",
       "      <td>8100</td>\n",
       "    </tr>\n",
       "  </tbody>\n",
       "</table>\n",
       "</div>"
      ],
      "text/plain": [
       "     unidades  importe\n",
       "mes                   \n",
       "nov        26     8424\n",
       "oct        55    17820\n",
       "sep        25     8100"
      ]
     },
     "execution_count": 62,
     "metadata": {},
     "output_type": "execute_result"
    }
   ],
   "source": [
    "ventas.groupby(['mes']).sum().drop(columns=['díaSemana','año','día'])"
   ]
  },
  {
   "cell_type": "code",
   "execution_count": 63,
   "metadata": {},
   "outputs": [
    {
     "data": {
      "text/html": [
       "<div>\n",
       "<style scoped>\n",
       "    .dataframe tbody tr th:only-of-type {\n",
       "        vertical-align: middle;\n",
       "    }\n",
       "\n",
       "    .dataframe tbody tr th {\n",
       "        vertical-align: top;\n",
       "    }\n",
       "\n",
       "    .dataframe thead th {\n",
       "        text-align: right;\n",
       "    }\n",
       "</style>\n",
       "<table border=\"1\" class=\"dataframe\">\n",
       "  <thead>\n",
       "    <tr style=\"text-align: right;\">\n",
       "      <th></th>\n",
       "      <th>mes</th>\n",
       "      <th>unidades</th>\n",
       "      <th>importe</th>\n",
       "    </tr>\n",
       "  </thead>\n",
       "  <tbody>\n",
       "    <tr>\n",
       "      <th>0</th>\n",
       "      <td>nov</td>\n",
       "      <td>26</td>\n",
       "      <td>8424</td>\n",
       "    </tr>\n",
       "    <tr>\n",
       "      <th>1</th>\n",
       "      <td>oct</td>\n",
       "      <td>55</td>\n",
       "      <td>17820</td>\n",
       "    </tr>\n",
       "    <tr>\n",
       "      <th>2</th>\n",
       "      <td>sep</td>\n",
       "      <td>25</td>\n",
       "      <td>8100</td>\n",
       "    </tr>\n",
       "  </tbody>\n",
       "</table>\n",
       "</div>"
      ],
      "text/plain": [
       "   mes  unidades  importe\n",
       "0  nov        26     8424\n",
       "1  oct        55    17820\n",
       "2  sep        25     8100"
      ]
     },
     "execution_count": 63,
     "metadata": {},
     "output_type": "execute_result"
    }
   ],
   "source": [
    "ventas.groupby(['mes']).sum().drop(columns=['díaSemana','año','día']).reset_index()"
   ]
  },
  {
   "cell_type": "markdown",
   "metadata": {},
   "source": [
    "También es posible obtener el agrupamiento por dos columnas. Los datos se agruparán primero por la que se indique primero y, dentro de cada grupo formado, los datos se agruparán por la que se indique a continuación. Para probarlo, se cambia un poco el frame original para tener las ventas en dos años en un frame llamado *ventasDos*"
   ]
  },
  {
   "cell_type": "code",
   "execution_count": 60,
   "metadata": {},
   "outputs": [
    {
     "data": {
      "text/html": [
       "<div>\n",
       "<style scoped>\n",
       "    .dataframe tbody tr th:only-of-type {\n",
       "        vertical-align: middle;\n",
       "    }\n",
       "\n",
       "    .dataframe tbody tr th {\n",
       "        vertical-align: top;\n",
       "    }\n",
       "\n",
       "    .dataframe thead th {\n",
       "        text-align: right;\n",
       "    }\n",
       "</style>\n",
       "<table border=\"1\" class=\"dataframe\">\n",
       "  <thead>\n",
       "    <tr style=\"text-align: right;\">\n",
       "      <th></th>\n",
       "      <th>unidades</th>\n",
       "      <th>importe</th>\n",
       "      <th>año</th>\n",
       "      <th>mes</th>\n",
       "      <th>día</th>\n",
       "      <th>díaSemana</th>\n",
       "    </tr>\n",
       "  </thead>\n",
       "  <tbody>\n",
       "    <tr>\n",
       "      <th>0</th>\n",
       "      <td>7</td>\n",
       "      <td>2268</td>\n",
       "      <td>2020</td>\n",
       "      <td>sep</td>\n",
       "      <td>5</td>\n",
       "      <td>sábado</td>\n",
       "    </tr>\n",
       "    <tr>\n",
       "      <th>1</th>\n",
       "      <td>13</td>\n",
       "      <td>4212</td>\n",
       "      <td>2020</td>\n",
       "      <td>sep</td>\n",
       "      <td>17</td>\n",
       "      <td>jueves</td>\n",
       "    </tr>\n",
       "    <tr>\n",
       "      <th>2</th>\n",
       "      <td>21</td>\n",
       "      <td>6804</td>\n",
       "      <td>2020</td>\n",
       "      <td>oct</td>\n",
       "      <td>7</td>\n",
       "      <td>miércoles</td>\n",
       "    </tr>\n",
       "    <tr>\n",
       "      <th>3</th>\n",
       "      <td>11</td>\n",
       "      <td>3564</td>\n",
       "      <td>2020</td>\n",
       "      <td>oct</td>\n",
       "      <td>12</td>\n",
       "      <td>lunes</td>\n",
       "    </tr>\n",
       "    <tr>\n",
       "      <th>4</th>\n",
       "      <td>15</td>\n",
       "      <td>4860</td>\n",
       "      <td>2020</td>\n",
       "      <td>nov</td>\n",
       "      <td>3</td>\n",
       "      <td>martes</td>\n",
       "    </tr>\n",
       "  </tbody>\n",
       "</table>\n",
       "</div>"
      ],
      "text/plain": [
       "   unidades  importe   año  mes  día  díaSemana\n",
       "0         7     2268  2020  sep    5     sábado\n",
       "1        13     4212  2020  sep   17     jueves\n",
       "2        21     6804  2020  oct    7  miércoles\n",
       "3        11     3564  2020  oct   12      lunes\n",
       "4        15     4860  2020  nov    3     martes"
      ]
     },
     "execution_count": 60,
     "metadata": {},
     "output_type": "execute_result"
    }
   ],
   "source": [
    "data = {\n",
    "    \"unidades\": [7, 13, 21, 11, 15, 11, 5, 8, 7, 16, 5, 10],\n",
    "    \"importe\": [2268, 4212, 6804, 3564, 4860, 3564, 1620, 2592, 2268, 5184, 1620, 3240],\n",
    "    \"año\": [2020, 2020, 2020, 2020, 2020, 2020, 2021, 2021, 2021, 2021, 2021, 2021],\n",
    "    \"mes\": [\"sep\", \"sep\", \"oct\", \"oct\", \"nov\", \"nov\", \"sep\", \"sep\", \"oct\", \"oct\", \"oct\", \"nov\"],\n",
    "    \"día\": [5, 17, 7, 12, 3, 26, 28, 30, 13, 18, 30, 27],\n",
    "    \"díaSemana\": [\"sábado\", \"jueves\", \"miércoles\", \"lunes\", \"martes\", \"jueves\", \"martes\", \"jueves\", \"miércoles\", \"lunes\", \"sábado\", \"sábado\"]\n",
    "}\n",
    "\n",
    "ventasDos = pd.DataFrame(data)\n",
    "ventasDos.head()"
   ]
  },
  {
   "cell_type": "markdown",
   "metadata": {},
   "source": [
    "Ahora, se agrupará primero por año y, dentro de cada año, por mes, en un nuevo frame llamado *ventasAñoMes*:"
   ]
  },
  {
   "cell_type": "code",
   "execution_count": 65,
   "metadata": {},
   "outputs": [
    {
     "data": {
      "text/html": [
       "<div>\n",
       "<style scoped>\n",
       "    .dataframe tbody tr th:only-of-type {\n",
       "        vertical-align: middle;\n",
       "    }\n",
       "\n",
       "    .dataframe tbody tr th {\n",
       "        vertical-align: top;\n",
       "    }\n",
       "\n",
       "    .dataframe thead th {\n",
       "        text-align: right;\n",
       "    }\n",
       "</style>\n",
       "<table border=\"1\" class=\"dataframe\">\n",
       "  <thead>\n",
       "    <tr style=\"text-align: right;\">\n",
       "      <th></th>\n",
       "      <th></th>\n",
       "      <th>unidades</th>\n",
       "      <th>importe</th>\n",
       "      <th>día</th>\n",
       "      <th>díaSemana</th>\n",
       "    </tr>\n",
       "    <tr>\n",
       "      <th>año</th>\n",
       "      <th>mes</th>\n",
       "      <th></th>\n",
       "      <th></th>\n",
       "      <th></th>\n",
       "      <th></th>\n",
       "    </tr>\n",
       "  </thead>\n",
       "  <tbody>\n",
       "    <tr>\n",
       "      <th rowspan=\"3\" valign=\"top\">2020</th>\n",
       "      <th>nov</th>\n",
       "      <td>26</td>\n",
       "      <td>8424</td>\n",
       "      <td>29</td>\n",
       "      <td>martesjueves</td>\n",
       "    </tr>\n",
       "    <tr>\n",
       "      <th>oct</th>\n",
       "      <td>32</td>\n",
       "      <td>10368</td>\n",
       "      <td>19</td>\n",
       "      <td>miércoleslunes</td>\n",
       "    </tr>\n",
       "    <tr>\n",
       "      <th>sep</th>\n",
       "      <td>20</td>\n",
       "      <td>6480</td>\n",
       "      <td>22</td>\n",
       "      <td>sábadojueves</td>\n",
       "    </tr>\n",
       "    <tr>\n",
       "      <th rowspan=\"3\" valign=\"top\">2021</th>\n",
       "      <th>nov</th>\n",
       "      <td>10</td>\n",
       "      <td>3240</td>\n",
       "      <td>27</td>\n",
       "      <td>sábado</td>\n",
       "    </tr>\n",
       "    <tr>\n",
       "      <th>oct</th>\n",
       "      <td>28</td>\n",
       "      <td>9072</td>\n",
       "      <td>61</td>\n",
       "      <td>miércoleslunessábado</td>\n",
       "    </tr>\n",
       "    <tr>\n",
       "      <th>sep</th>\n",
       "      <td>13</td>\n",
       "      <td>4212</td>\n",
       "      <td>58</td>\n",
       "      <td>martesjueves</td>\n",
       "    </tr>\n",
       "  </tbody>\n",
       "</table>\n",
       "</div>"
      ],
      "text/plain": [
       "          unidades  importe  día             díaSemana\n",
       "año  mes                                              \n",
       "2020 nov        26     8424   29          martesjueves\n",
       "     oct        32    10368   19        miércoleslunes\n",
       "     sep        20     6480   22          sábadojueves\n",
       "2021 nov        10     3240   27                sábado\n",
       "     oct        28     9072   61  miércoleslunessábado\n",
       "     sep        13     4212   58          martesjueves"
      ]
     },
     "execution_count": 65,
     "metadata": {},
     "output_type": "execute_result"
    }
   ],
   "source": [
    "ventasDos.groupby(['año','mes']).sum()"
   ]
  },
  {
   "cell_type": "code",
   "execution_count": 66,
   "metadata": {},
   "outputs": [
    {
     "data": {
      "text/html": [
       "<div>\n",
       "<style scoped>\n",
       "    .dataframe tbody tr th:only-of-type {\n",
       "        vertical-align: middle;\n",
       "    }\n",
       "\n",
       "    .dataframe tbody tr th {\n",
       "        vertical-align: top;\n",
       "    }\n",
       "\n",
       "    .dataframe thead th {\n",
       "        text-align: right;\n",
       "    }\n",
       "</style>\n",
       "<table border=\"1\" class=\"dataframe\">\n",
       "  <thead>\n",
       "    <tr style=\"text-align: right;\">\n",
       "      <th></th>\n",
       "      <th>año</th>\n",
       "      <th>mes</th>\n",
       "      <th>unidades</th>\n",
       "      <th>importe</th>\n",
       "    </tr>\n",
       "  </thead>\n",
       "  <tbody>\n",
       "    <tr>\n",
       "      <th>0</th>\n",
       "      <td>2020</td>\n",
       "      <td>nov</td>\n",
       "      <td>26</td>\n",
       "      <td>8424</td>\n",
       "    </tr>\n",
       "    <tr>\n",
       "      <th>1</th>\n",
       "      <td>2020</td>\n",
       "      <td>oct</td>\n",
       "      <td>32</td>\n",
       "      <td>10368</td>\n",
       "    </tr>\n",
       "    <tr>\n",
       "      <th>2</th>\n",
       "      <td>2020</td>\n",
       "      <td>sep</td>\n",
       "      <td>20</td>\n",
       "      <td>6480</td>\n",
       "    </tr>\n",
       "    <tr>\n",
       "      <th>3</th>\n",
       "      <td>2021</td>\n",
       "      <td>nov</td>\n",
       "      <td>10</td>\n",
       "      <td>3240</td>\n",
       "    </tr>\n",
       "    <tr>\n",
       "      <th>4</th>\n",
       "      <td>2021</td>\n",
       "      <td>oct</td>\n",
       "      <td>28</td>\n",
       "      <td>9072</td>\n",
       "    </tr>\n",
       "    <tr>\n",
       "      <th>5</th>\n",
       "      <td>2021</td>\n",
       "      <td>sep</td>\n",
       "      <td>13</td>\n",
       "      <td>4212</td>\n",
       "    </tr>\n",
       "  </tbody>\n",
       "</table>\n",
       "</div>"
      ],
      "text/plain": [
       "    año  mes  unidades  importe\n",
       "0  2020  nov        26     8424\n",
       "1  2020  oct        32    10368\n",
       "2  2020  sep        20     6480\n",
       "3  2021  nov        10     3240\n",
       "4  2021  oct        28     9072\n",
       "5  2021  sep        13     4212"
      ]
     },
     "execution_count": 66,
     "metadata": {},
     "output_type": "execute_result"
    }
   ],
   "source": [
    "ventasDos.groupby(['año','mes']).sum().reset_index().drop(columns=['día','díaSemana'])"
   ]
  },
  {
   "cell_type": "code",
   "execution_count": 74,
   "metadata": {},
   "outputs": [
    {
     "data": {
      "text/html": [
       "<div>\n",
       "<style scoped>\n",
       "    .dataframe tbody tr th:only-of-type {\n",
       "        vertical-align: middle;\n",
       "    }\n",
       "\n",
       "    .dataframe tbody tr th {\n",
       "        vertical-align: top;\n",
       "    }\n",
       "\n",
       "    .dataframe thead th {\n",
       "        text-align: right;\n",
       "    }\n",
       "</style>\n",
       "<table border=\"1\" class=\"dataframe\">\n",
       "  <thead>\n",
       "    <tr style=\"text-align: right;\">\n",
       "      <th></th>\n",
       "      <th>mes</th>\n",
       "      <th>unidades</th>\n",
       "      <th>importe</th>\n",
       "    </tr>\n",
       "  </thead>\n",
       "  <tbody>\n",
       "    <tr>\n",
       "      <th>0</th>\n",
       "      <td>nov</td>\n",
       "      <td>26</td>\n",
       "      <td>8424</td>\n",
       "    </tr>\n",
       "    <tr>\n",
       "      <th>1</th>\n",
       "      <td>oct</td>\n",
       "      <td>55</td>\n",
       "      <td>17820</td>\n",
       "    </tr>\n",
       "    <tr>\n",
       "      <th>2</th>\n",
       "      <td>sep</td>\n",
       "      <td>25</td>\n",
       "      <td>8100</td>\n",
       "    </tr>\n",
       "  </tbody>\n",
       "</table>\n",
       "</div>"
      ],
      "text/plain": [
       "   mes  unidades  importe\n",
       "0  nov        26     8424\n",
       "1  oct        55    17820\n",
       "2  sep        25     8100"
      ]
     },
     "execution_count": 74,
     "metadata": {},
     "output_type": "execute_result"
    }
   ],
   "source": [
    "ventas.groupby('mes')[['unidades','importe']].sum().reset_index()"
   ]
  },
  {
   "cell_type": "markdown",
   "metadata": {},
   "source": [
    "### get_group"
   ]
  },
  {
   "cell_type": "code",
   "execution_count": 78,
   "metadata": {},
   "outputs": [],
   "source": [
    "ventasAño = ventasDos.groupby('año')[['mes','unidades','importe']]"
   ]
  },
  {
   "cell_type": "code",
   "execution_count": 79,
   "metadata": {},
   "outputs": [
    {
     "data": {
      "text/html": [
       "<div>\n",
       "<style scoped>\n",
       "    .dataframe tbody tr th:only-of-type {\n",
       "        vertical-align: middle;\n",
       "    }\n",
       "\n",
       "    .dataframe tbody tr th {\n",
       "        vertical-align: top;\n",
       "    }\n",
       "\n",
       "    .dataframe thead th {\n",
       "        text-align: right;\n",
       "    }\n",
       "</style>\n",
       "<table border=\"1\" class=\"dataframe\">\n",
       "  <thead>\n",
       "    <tr style=\"text-align: right;\">\n",
       "      <th></th>\n",
       "      <th>mes</th>\n",
       "      <th>unidades</th>\n",
       "      <th>importe</th>\n",
       "    </tr>\n",
       "  </thead>\n",
       "  <tbody>\n",
       "    <tr>\n",
       "      <th>0</th>\n",
       "      <td>sep</td>\n",
       "      <td>7</td>\n",
       "      <td>2268</td>\n",
       "    </tr>\n",
       "    <tr>\n",
       "      <th>1</th>\n",
       "      <td>sep</td>\n",
       "      <td>13</td>\n",
       "      <td>4212</td>\n",
       "    </tr>\n",
       "    <tr>\n",
       "      <th>2</th>\n",
       "      <td>oct</td>\n",
       "      <td>21</td>\n",
       "      <td>6804</td>\n",
       "    </tr>\n",
       "    <tr>\n",
       "      <th>3</th>\n",
       "      <td>oct</td>\n",
       "      <td>11</td>\n",
       "      <td>3564</td>\n",
       "    </tr>\n",
       "    <tr>\n",
       "      <th>4</th>\n",
       "      <td>nov</td>\n",
       "      <td>15</td>\n",
       "      <td>4860</td>\n",
       "    </tr>\n",
       "    <tr>\n",
       "      <th>5</th>\n",
       "      <td>nov</td>\n",
       "      <td>11</td>\n",
       "      <td>3564</td>\n",
       "    </tr>\n",
       "  </tbody>\n",
       "</table>\n",
       "</div>"
      ],
      "text/plain": [
       "   mes  unidades  importe\n",
       "0  sep         7     2268\n",
       "1  sep        13     4212\n",
       "2  oct        21     6804\n",
       "3  oct        11     3564\n",
       "4  nov        15     4860\n",
       "5  nov        11     3564"
      ]
     },
     "execution_count": 79,
     "metadata": {},
     "output_type": "execute_result"
    }
   ],
   "source": [
    "ventasAño.get_group(2020)"
   ]
  },
  {
   "attachments": {
    "image.png": {
     "image/png": "[encoded data removed]"
    }
   },
   "cell_type": "markdown",
   "metadata": {},
   "source": [
    "Funciones más comunes:\n",
    "\n",
    "![image.png](attachment:image.png)"
   ]
  },
  {
   "cell_type": "markdown",
   "metadata": {},
   "source": [
    "### Separación"
   ]
  },
  {
   "cell_type": "code",
   "execution_count": 91,
   "metadata": {},
   "outputs": [
    {
     "data": {
      "text/html": [
       "<div>\n",
       "<style scoped>\n",
       "    .dataframe tbody tr th:only-of-type {\n",
       "        vertical-align: middle;\n",
       "    }\n",
       "\n",
       "    .dataframe tbody tr th {\n",
       "        vertical-align: top;\n",
       "    }\n",
       "\n",
       "    .dataframe thead th {\n",
       "        text-align: right;\n",
       "    }\n",
       "</style>\n",
       "<table border=\"1\" class=\"dataframe\">\n",
       "  <thead>\n",
       "    <tr style=\"text-align: right;\">\n",
       "      <th></th>\n",
       "      <th>unidades</th>\n",
       "      <th>importe</th>\n",
       "      <th>fecha</th>\n",
       "    </tr>\n",
       "  </thead>\n",
       "  <tbody>\n",
       "    <tr>\n",
       "      <th>0</th>\n",
       "      <td>7</td>\n",
       "      <td>2268</td>\n",
       "      <td>05/09/2020</td>\n",
       "    </tr>\n",
       "    <tr>\n",
       "      <th>1</th>\n",
       "      <td>13</td>\n",
       "      <td>4212</td>\n",
       "      <td>17/09/2020</td>\n",
       "    </tr>\n",
       "    <tr>\n",
       "      <th>2</th>\n",
       "      <td>21</td>\n",
       "      <td>6804</td>\n",
       "      <td>07/10/2020</td>\n",
       "    </tr>\n",
       "    <tr>\n",
       "      <th>3</th>\n",
       "      <td>11</td>\n",
       "      <td>3564</td>\n",
       "      <td>12/10/2020</td>\n",
       "    </tr>\n",
       "    <tr>\n",
       "      <th>4</th>\n",
       "      <td>15</td>\n",
       "      <td>4860</td>\n",
       "      <td>03/11/2020</td>\n",
       "    </tr>\n",
       "  </tbody>\n",
       "</table>\n",
       "</div>"
      ],
      "text/plain": [
       "   unidades  importe       fecha\n",
       "0         7     2268  05/09/2020\n",
       "1        13     4212  17/09/2020\n",
       "2        21     6804  07/10/2020\n",
       "3        11     3564  12/10/2020\n",
       "4        15     4860  03/11/2020"
      ]
     },
     "execution_count": 91,
     "metadata": {},
     "output_type": "execute_result"
    }
   ],
   "source": [
    "data = {\n",
    "    \"unidades\": [7, 13, 21, 11, 15, 11, 5, 8, 7, 16],\n",
    "    \"importe\": [2268, 4212, 6804, 3564, 4860, 3564, 1620, 2592, 2268, 5184],\n",
    "    \"fecha\": [\n",
    "        \"05/09/2020\", \"17/09/2020\", \"07/10/2020\", \"12/10/2020\", \n",
    "        \"03/11/2020\", \"26/11/2020\", \"28/09/2021\", \"30/09/2021\", \n",
    "        \"13/10/2021\", \"18/10/2021\"\n",
    "    ]\n",
    "}\n",
    "\n",
    "ventas = pd.DataFrame(data)\n",
    "ventas.head()"
   ]
  },
  {
   "cell_type": "code",
   "execution_count": 92,
   "metadata": {},
   "outputs": [
    {
     "data": {
      "text/plain": [
       "str"
      ]
     },
     "execution_count": 92,
     "metadata": {},
     "output_type": "execute_result"
    }
   ],
   "source": [
    "type(ventas.fecha[0])"
   ]
  },
  {
   "cell_type": "markdown",
   "metadata": {},
   "source": [
    "Suponiendo que todas las fechas estuvieran en un formato común y que este fuera *dd/mm/aa*, para extraer los 4 últimos dígitos, encontrar el año y colocarlo en una columna llamada, se puede usar:"
   ]
  },
  {
   "cell_type": "markdown",
   "metadata": {},
   "source": [
    "str & split"
   ]
  },
  {
   "cell_type": "code",
   "execution_count": 97,
   "metadata": {},
   "outputs": [
    {
     "data": {
      "text/html": [
       "<div>\n",
       "<style scoped>\n",
       "    .dataframe tbody tr th:only-of-type {\n",
       "        vertical-align: middle;\n",
       "    }\n",
       "\n",
       "    .dataframe tbody tr th {\n",
       "        vertical-align: top;\n",
       "    }\n",
       "\n",
       "    .dataframe thead th {\n",
       "        text-align: right;\n",
       "    }\n",
       "</style>\n",
       "<table border=\"1\" class=\"dataframe\">\n",
       "  <thead>\n",
       "    <tr style=\"text-align: right;\">\n",
       "      <th></th>\n",
       "      <th>unidades</th>\n",
       "      <th>importe</th>\n",
       "      <th>fecha</th>\n",
       "      <th>año</th>\n",
       "    </tr>\n",
       "  </thead>\n",
       "  <tbody>\n",
       "    <tr>\n",
       "      <th>0</th>\n",
       "      <td>7</td>\n",
       "      <td>2268</td>\n",
       "      <td>05/09/2020</td>\n",
       "      <td>2020</td>\n",
       "    </tr>\n",
       "    <tr>\n",
       "      <th>1</th>\n",
       "      <td>13</td>\n",
       "      <td>4212</td>\n",
       "      <td>17/09/2020</td>\n",
       "      <td>2020</td>\n",
       "    </tr>\n",
       "    <tr>\n",
       "      <th>2</th>\n",
       "      <td>21</td>\n",
       "      <td>6804</td>\n",
       "      <td>07/10/2020</td>\n",
       "      <td>2020</td>\n",
       "    </tr>\n",
       "    <tr>\n",
       "      <th>3</th>\n",
       "      <td>11</td>\n",
       "      <td>3564</td>\n",
       "      <td>12/10/2020</td>\n",
       "      <td>2020</td>\n",
       "    </tr>\n",
       "    <tr>\n",
       "      <th>4</th>\n",
       "      <td>15</td>\n",
       "      <td>4860</td>\n",
       "      <td>03/11/2020</td>\n",
       "      <td>2020</td>\n",
       "    </tr>\n",
       "  </tbody>\n",
       "</table>\n",
       "</div>"
      ],
      "text/plain": [
       "   unidades  importe       fecha   año\n",
       "0         7     2268  05/09/2020  2020\n",
       "1        13     4212  17/09/2020  2020\n",
       "2        21     6804  07/10/2020  2020\n",
       "3        11     3564  12/10/2020  2020\n",
       "4        15     4860  03/11/2020  2020"
      ]
     },
     "execution_count": 97,
     "metadata": {},
     "output_type": "execute_result"
    }
   ],
   "source": [
    "ventas['año'] = ventas['fecha'].str[-4:].astype(int)\n",
    "#O bien podemos dividir el strinmg con el metodo split\n",
    "ventas['fecha'].str.split(pat='/').str[2].astype(int)\n",
    "\n",
    "ventas.head()"
   ]
  },
  {
   "cell_type": "markdown",
   "metadata": {},
   "source": [
    "DatetimeIndex"
   ]
  },
  {
   "cell_type": "code",
   "execution_count": 99,
   "metadata": {},
   "outputs": [
    {
     "data": {
      "text/plain": [
       "Index([2020, 2020, 2020, 2020, 2020, 2020, 2021, 2021, 2021, 2021], dtype='int32', name='fecha')"
      ]
     },
     "execution_count": 99,
     "metadata": {},
     "output_type": "execute_result"
    }
   ],
   "source": [
    "pd.DatetimeIndex(ventas['fecha']).year"
   ]
  },
  {
   "cell_type": "code",
   "execution_count": 100,
   "metadata": {},
   "outputs": [
    {
     "data": {
      "text/plain": [
       "Index([9, 9, 10, 10, 11, 11, 9, 9, 10, 10], dtype='int32', name='fecha')"
      ]
     },
     "execution_count": 100,
     "metadata": {},
     "output_type": "execute_result"
    }
   ],
   "source": [
    "pd.DatetimeIndex(ventas['fecha'], dayfirst=True).month"
   ]
  },
  {
   "cell_type": "code",
   "execution_count": 101,
   "metadata": {},
   "outputs": [
    {
     "data": {
      "text/plain": [
       "Index([5, 17, 7, 12, 3, 26, 28, 30, 13, 18], dtype='int32', name='fecha')"
      ]
     },
     "execution_count": 101,
     "metadata": {},
     "output_type": "execute_result"
    }
   ],
   "source": [
    "pd.DatetimeIndex(ventas['fecha'], dayfirst=True).day"
   ]
  },
  {
   "cell_type": "markdown",
   "metadata": {},
   "source": [
    "Como los objetos *DatetimeIndex* son arreglos inmutables de objetos *Timestamp*, se puede asignar a objetos *Timestamp*, los cuales son una subclase de *datetime*. El constructor de la clase *DatetimeIndex*, como se mencionó anteriormente, puede recibir fechas como strings en diferentes formatos y realizar la conversión a objetos *Timestamp*. Por ejemplo, si se crea una serie con fechas en string con diferentes formatos:"
   ]
  },
  {
   "cell_type": "code",
   "execution_count": 102,
   "metadata": {},
   "outputs": [],
   "source": [
    "fecha = pd.Series(['01/02/2021', '08-05-2017', '28 April 2020', '12-16-2019'])"
   ]
  },
  {
   "cell_type": "markdown",
   "metadata": {},
   "source": [
    "Se puede obtener el año fácilmente creando un objeto DatetimeIndex:"
   ]
  },
  {
   "cell_type": "code",
   "execution_count": 103,
   "metadata": {},
   "outputs": [
    {
     "data": {
      "text/plain": [
       "Index([2021, 2017, 2020, 2019], dtype='int32')"
      ]
     },
     "execution_count": 103,
     "metadata": {},
     "output_type": "execute_result"
    }
   ],
   "source": [
    "pd.DatetimeIndex(fecha).year"
   ]
  },
  {
   "cell_type": "markdown",
   "metadata": {},
   "source": [
    "## L5. Creación de Características por Transformación"
   ]
  },
  {
   "cell_type": "markdown",
   "metadata": {},
   "source": [
    "### Escalamiento de características"
   ]
  },
  {
   "cell_type": "markdown",
   "metadata": {},
   "source": [
    "#### Escalamiento con Pandas"
   ]
  },
  {
   "cell_type": "code",
   "execution_count": 116,
   "metadata": {},
   "outputs": [
    {
     "data": {
      "text/html": [
       "<div>\n",
       "<style scoped>\n",
       "    .dataframe tbody tr th:only-of-type {\n",
       "        vertical-align: middle;\n",
       "    }\n",
       "\n",
       "    .dataframe tbody tr th {\n",
       "        vertical-align: top;\n",
       "    }\n",
       "\n",
       "    .dataframe thead th {\n",
       "        text-align: right;\n",
       "    }\n",
       "</style>\n",
       "<table border=\"1\" class=\"dataframe\">\n",
       "  <thead>\n",
       "    <tr style=\"text-align: right;\">\n",
       "      <th></th>\n",
       "      <th>metros_terreno</th>\n",
       "      <th>metros_construccion</th>\n",
       "      <th>cuartos</th>\n",
       "      <th>estacionamientos</th>\n",
       "      <th>precio</th>\n",
       "    </tr>\n",
       "  </thead>\n",
       "  <tbody>\n",
       "    <tr>\n",
       "      <th>0</th>\n",
       "      <td>200</td>\n",
       "      <td>130</td>\n",
       "      <td>3</td>\n",
       "      <td>2</td>\n",
       "      <td>1825000</td>\n",
       "    </tr>\n",
       "    <tr>\n",
       "      <th>1</th>\n",
       "      <td>400</td>\n",
       "      <td>312</td>\n",
       "      <td>6</td>\n",
       "      <td>3</td>\n",
       "      <td>2850000</td>\n",
       "    </tr>\n",
       "    <tr>\n",
       "      <th>2</th>\n",
       "      <td>120</td>\n",
       "      <td>120</td>\n",
       "      <td>3</td>\n",
       "      <td>1</td>\n",
       "      <td>1375000</td>\n",
       "    </tr>\n",
       "  </tbody>\n",
       "</table>\n",
       "</div>"
      ],
      "text/plain": [
       "   metros_terreno  metros_construccion  cuartos  estacionamientos   precio\n",
       "0             200                  130        3                 2  1825000\n",
       "1             400                  312        6                 3  2850000\n",
       "2             120                  120        3                 1  1375000"
      ]
     },
     "execution_count": 116,
     "metadata": {},
     "output_type": "execute_result"
    }
   ],
   "source": [
    "data = {\n",
    "    \"metros_terreno\": [200, 400, 120],\n",
    "    \"metros_construccion\": [130, 312, 120],\n",
    "    \"cuartos\": [3, 6, 3],\n",
    "    \"estacionamientos\": [2, 3, 1],\n",
    "    \"precio\": [1825000, 2850000, 1375000]\n",
    "}\n",
    "\n",
    "casas = pd.DataFrame(data)\n",
    "casas"
   ]
  },
  {
   "cell_type": "markdown",
   "metadata": {},
   "source": [
    "Mientras los metros de terreno y los metros de construcción están dados en cientos, el número de cuartos y el de lugares de estacionamiento están en unidades. No se diga el precio de la casa, que está en millones. La diferencia de escalas es muy grande.\n",
    "\n",
    "En algunos procesos que usan los datos, como por ejemplo algunos métodos de machine learning, requieren que las escalas de las características sean comunes, es decir, similares, para garantizar un resultado adecuado en un tiempo adecuado. Si las escalas son muy diferentes, algunos de los métodos les cuesta mucho trabajo y tiempo extra el encontrar una solución adecuada. A este proceso se le conoce como <strong> *escalamiento* o *normalización*</strong>."
   ]
  },
  {
   "cell_type": "markdown",
   "metadata": {},
   "source": [
    "<strong> Escalamiento del máximo absoluto. </strong>\n",
    "\n",
    "Se obtiene dividiendo cada dato 𝑥𝑖 entre el valor máximo de los valores absolutos de los datos en la columna 𝑥, lo cual dará un conjunto de valores entre -1 y 1: <br>\n",
    "\n",
    "$$\\frac{x_i}{max(|x|)}"
   ]
  },
  {
   "cell_type": "code",
   "execution_count": 109,
   "metadata": {},
   "outputs": [
    {
     "data": {
      "text/html": [
       "<div>\n",
       "<style scoped>\n",
       "    .dataframe tbody tr th:only-of-type {\n",
       "        vertical-align: middle;\n",
       "    }\n",
       "\n",
       "    .dataframe tbody tr th {\n",
       "        vertical-align: top;\n",
       "    }\n",
       "\n",
       "    .dataframe thead th {\n",
       "        text-align: right;\n",
       "    }\n",
       "</style>\n",
       "<table border=\"1\" class=\"dataframe\">\n",
       "  <thead>\n",
       "    <tr style=\"text-align: right;\">\n",
       "      <th></th>\n",
       "      <th>metros_terreno</th>\n",
       "      <th>metros_construccion</th>\n",
       "      <th>cuartos</th>\n",
       "      <th>estacionamientos</th>\n",
       "      <th>precio</th>\n",
       "      <th>metros_terreno_norm</th>\n",
       "      <th>metros_terreno_norm2</th>\n",
       "    </tr>\n",
       "  </thead>\n",
       "  <tbody>\n",
       "    <tr>\n",
       "      <th>0</th>\n",
       "      <td>200</td>\n",
       "      <td>130</td>\n",
       "      <td>3</td>\n",
       "      <td>2</td>\n",
       "      <td>1825000</td>\n",
       "      <td>0.5</td>\n",
       "      <td>0.5</td>\n",
       "    </tr>\n",
       "    <tr>\n",
       "      <th>1</th>\n",
       "      <td>400</td>\n",
       "      <td>312</td>\n",
       "      <td>6</td>\n",
       "      <td>3</td>\n",
       "      <td>2850000</td>\n",
       "      <td>1.0</td>\n",
       "      <td>1.0</td>\n",
       "    </tr>\n",
       "    <tr>\n",
       "      <th>2</th>\n",
       "      <td>120</td>\n",
       "      <td>120</td>\n",
       "      <td>3</td>\n",
       "      <td>1</td>\n",
       "      <td>1375000</td>\n",
       "      <td>0.3</td>\n",
       "      <td>0.3</td>\n",
       "    </tr>\n",
       "  </tbody>\n",
       "</table>\n",
       "</div>"
      ],
      "text/plain": [
       "   metros_terreno  metros_construccion  cuartos  estacionamientos   precio  \\\n",
       "0             200                  130        3                 2  1825000   \n",
       "1             400                  312        6                 3  2850000   \n",
       "2             120                  120        3                 1  1375000   \n",
       "\n",
       "   metros_terreno_norm  metros_terreno_norm2  \n",
       "0                  0.5                   0.5  \n",
       "1                  1.0                   1.0  \n",
       "2                  0.3                   0.3  "
      ]
     },
     "execution_count": 109,
     "metadata": {},
     "output_type": "execute_result"
    }
   ],
   "source": [
    "casas['metros_terreno_norm'] = casas['metros_terreno']/max(abs(casas['metros_terreno']))\n",
    "\n",
    "# O bien utilizando los metodos .abs() y .max()\n",
    "casas['metros_terreno_norm2'] = casas['metros_terreno']/ casas['metros_terreno'].abs().max()\n",
    "casas"
   ]
  },
  {
   "cell_type": "markdown",
   "metadata": {},
   "source": [
    "<strong> Escalamiento min-max </strong>\n",
    "\n",
    "También llamado normalización, se obtiene restando el mínimo valor de la columna 𝑥 de cada dato 𝑥𝑖 y dividiendo el resultado entre la diferencia entre el dato máximo y el dato mínimo de la columna 𝑥, llamado rango de 𝑥. Este escalamiento da como resultado valores entre 0 y 1:\n",
    "\n",
    "$$\\frac{x_i-min(x)}{max(x)-min(x)}"
   ]
  },
  {
   "cell_type": "code",
   "execution_count": 111,
   "metadata": {},
   "outputs": [
    {
     "data": {
      "text/html": [
       "<div>\n",
       "<style scoped>\n",
       "    .dataframe tbody tr th:only-of-type {\n",
       "        vertical-align: middle;\n",
       "    }\n",
       "\n",
       "    .dataframe tbody tr th {\n",
       "        vertical-align: top;\n",
       "    }\n",
       "\n",
       "    .dataframe thead th {\n",
       "        text-align: right;\n",
       "    }\n",
       "</style>\n",
       "<table border=\"1\" class=\"dataframe\">\n",
       "  <thead>\n",
       "    <tr style=\"text-align: right;\">\n",
       "      <th></th>\n",
       "      <th>metros_terreno</th>\n",
       "      <th>metros_construccion</th>\n",
       "      <th>cuartos</th>\n",
       "      <th>estacionamientos</th>\n",
       "      <th>precio</th>\n",
       "      <th>metros_terreno_norm</th>\n",
       "      <th>metros_terreno_norm2</th>\n",
       "      <th>metros_terreno_norm3</th>\n",
       "      <th>metros_terreno_norm4</th>\n",
       "    </tr>\n",
       "  </thead>\n",
       "  <tbody>\n",
       "    <tr>\n",
       "      <th>0</th>\n",
       "      <td>200</td>\n",
       "      <td>130</td>\n",
       "      <td>3</td>\n",
       "      <td>2</td>\n",
       "      <td>1825000</td>\n",
       "      <td>0.5</td>\n",
       "      <td>0.5</td>\n",
       "      <td>0.285714</td>\n",
       "      <td>0.285714</td>\n",
       "    </tr>\n",
       "    <tr>\n",
       "      <th>1</th>\n",
       "      <td>400</td>\n",
       "      <td>312</td>\n",
       "      <td>6</td>\n",
       "      <td>3</td>\n",
       "      <td>2850000</td>\n",
       "      <td>1.0</td>\n",
       "      <td>1.0</td>\n",
       "      <td>1.000000</td>\n",
       "      <td>1.000000</td>\n",
       "    </tr>\n",
       "    <tr>\n",
       "      <th>2</th>\n",
       "      <td>120</td>\n",
       "      <td>120</td>\n",
       "      <td>3</td>\n",
       "      <td>1</td>\n",
       "      <td>1375000</td>\n",
       "      <td>0.3</td>\n",
       "      <td>0.3</td>\n",
       "      <td>0.000000</td>\n",
       "      <td>0.000000</td>\n",
       "    </tr>\n",
       "  </tbody>\n",
       "</table>\n",
       "</div>"
      ],
      "text/plain": [
       "   metros_terreno  metros_construccion  cuartos  estacionamientos   precio  \\\n",
       "0             200                  130        3                 2  1825000   \n",
       "1             400                  312        6                 3  2850000   \n",
       "2             120                  120        3                 1  1375000   \n",
       "\n",
       "   metros_terreno_norm  metros_terreno_norm2  metros_terreno_norm3  \\\n",
       "0                  0.5                   0.5              0.285714   \n",
       "1                  1.0                   1.0              1.000000   \n",
       "2                  0.3                   0.3              0.000000   \n",
       "\n",
       "   metros_terreno_norm4  \n",
       "0              0.285714  \n",
       "1              1.000000  \n",
       "2              0.000000  "
      ]
     },
     "execution_count": 111,
     "metadata": {},
     "output_type": "execute_result"
    }
   ],
   "source": [
    "casas['metros_terreno_norm3'] = (casas['metros_terreno'] - min(casas['metros_terreno']))/(max(casas['metros_terreno']) - min(casas['metros_terreno']))\n",
    "\n",
    "# O bien con los métodos de pandas\n",
    "casas['metros_terreno_norm4'] = (casas['metros_terreno'] - casas['metros_terreno'].min())/(casas['metros_terreno'].max() - casas['metros_terreno'].min())\n",
    "casas"
   ]
  },
  {
   "cell_type": "markdown",
   "metadata": {},
   "source": [
    "<strong>Estandarización</strong>\n",
    "\n",
    "Se logra restando la media de la columna x a cada uno de los datos xi y dividiendo el resultado entre la desviación estándar o de la misma columna, lo cual da resultados escalados tanto positivos como negativos:\n",
    "\n",
    "$$\\frac{x_i - \\bar{x}}{\\sigma{}}"
   ]
  },
  {
   "cell_type": "code",
   "execution_count": 112,
   "metadata": {},
   "outputs": [
    {
     "data": {
      "text/html": [
       "<div>\n",
       "<style scoped>\n",
       "    .dataframe tbody tr th:only-of-type {\n",
       "        vertical-align: middle;\n",
       "    }\n",
       "\n",
       "    .dataframe tbody tr th {\n",
       "        vertical-align: top;\n",
       "    }\n",
       "\n",
       "    .dataframe thead th {\n",
       "        text-align: right;\n",
       "    }\n",
       "</style>\n",
       "<table border=\"1\" class=\"dataframe\">\n",
       "  <thead>\n",
       "    <tr style=\"text-align: right;\">\n",
       "      <th></th>\n",
       "      <th>metros_terreno</th>\n",
       "      <th>metros_construccion</th>\n",
       "      <th>cuartos</th>\n",
       "      <th>estacionamientos</th>\n",
       "      <th>precio</th>\n",
       "      <th>metros_terreno_norm</th>\n",
       "      <th>metros_terreno_norm2</th>\n",
       "      <th>metros_terreno_norm3</th>\n",
       "      <th>metros_terreno_norm4</th>\n",
       "      <th>metros_terreno_norm5</th>\n",
       "    </tr>\n",
       "  </thead>\n",
       "  <tbody>\n",
       "    <tr>\n",
       "      <th>0</th>\n",
       "      <td>200</td>\n",
       "      <td>130</td>\n",
       "      <td>3</td>\n",
       "      <td>2</td>\n",
       "      <td>1825000</td>\n",
       "      <td>0.5</td>\n",
       "      <td>0.5</td>\n",
       "      <td>0.285714</td>\n",
       "      <td>0.285714</td>\n",
       "      <td>-0.27735</td>\n",
       "    </tr>\n",
       "    <tr>\n",
       "      <th>1</th>\n",
       "      <td>400</td>\n",
       "      <td>312</td>\n",
       "      <td>6</td>\n",
       "      <td>3</td>\n",
       "      <td>2850000</td>\n",
       "      <td>1.0</td>\n",
       "      <td>1.0</td>\n",
       "      <td>1.000000</td>\n",
       "      <td>1.000000</td>\n",
       "      <td>1.10940</td>\n",
       "    </tr>\n",
       "    <tr>\n",
       "      <th>2</th>\n",
       "      <td>120</td>\n",
       "      <td>120</td>\n",
       "      <td>3</td>\n",
       "      <td>1</td>\n",
       "      <td>1375000</td>\n",
       "      <td>0.3</td>\n",
       "      <td>0.3</td>\n",
       "      <td>0.000000</td>\n",
       "      <td>0.000000</td>\n",
       "      <td>-0.83205</td>\n",
       "    </tr>\n",
       "  </tbody>\n",
       "</table>\n",
       "</div>"
      ],
      "text/plain": [
       "   metros_terreno  metros_construccion  cuartos  estacionamientos   precio  \\\n",
       "0             200                  130        3                 2  1825000   \n",
       "1             400                  312        6                 3  2850000   \n",
       "2             120                  120        3                 1  1375000   \n",
       "\n",
       "   metros_terreno_norm  metros_terreno_norm2  metros_terreno_norm3  \\\n",
       "0                  0.5                   0.5              0.285714   \n",
       "1                  1.0                   1.0              1.000000   \n",
       "2                  0.3                   0.3              0.000000   \n",
       "\n",
       "   metros_terreno_norm4  metros_terreno_norm5  \n",
       "0              0.285714              -0.27735  \n",
       "1              1.000000               1.10940  \n",
       "2              0.000000              -0.83205  "
      ]
     },
     "execution_count": 112,
     "metadata": {},
     "output_type": "execute_result"
    }
   ],
   "source": [
    "casas['metros_terreno_norm5'] = (casas['metros_terreno'] - casas['metros_terreno'].mean())/casas['metros_terreno'].std()\n",
    "casas"
   ]
  },
  {
   "cell_type": "markdown",
   "metadata": {},
   "source": [
    "### Escalamiento con sci-kit learn"
   ]
  },
  {
   "cell_type": "markdown",
   "metadata": {},
   "source": [
    "Para obtener un escalamiento con *sci-kit learn* se debe importar el paquete llamado preprocessing. "
   ]
  },
  {
   "cell_type": "code",
   "execution_count": 113,
   "metadata": {},
   "outputs": [],
   "source": [
    "from sklearn import preprocessing"
   ]
  },
  {
   "cell_type": "markdown",
   "metadata": {},
   "source": [
    "<strong> Escalamiento del máximo absoluto: MaxAbsSaler </strong>"
   ]
  },
  {
   "cell_type": "code",
   "execution_count": 124,
   "metadata": {},
   "outputs": [
    {
     "data": {
      "text/plain": [
       "array([[0.5],\n",
       "       [1. ],\n",
       "       [0.3]])"
      ]
     },
     "execution_count": 124,
     "metadata": {},
     "output_type": "execute_result"
    }
   ],
   "source": [
    "escalador = preprocessing.MaxAbsScaler()\n",
    "escalador.fit_transform(casas)\n",
    "\n",
    "# O bien a una sola colmna del datframe\n",
    "escalador.fit_transform(casas[['metros_terreno']])"
   ]
  },
  {
   "cell_type": "markdown",
   "metadata": {},
   "source": [
    "<strong> Escalamiento min-max: MinMaxScaler </strong>"
   ]
  },
  {
   "cell_type": "code",
   "execution_count": 125,
   "metadata": {},
   "outputs": [
    {
     "data": {
      "text/plain": [
       "array([[0.28571429],\n",
       "       [1.        ],\n",
       "       [0.        ]])"
      ]
     },
     "execution_count": 125,
     "metadata": {},
     "output_type": "execute_result"
    }
   ],
   "source": [
    "escalador = preprocessing.MinMaxScaler()\n",
    "escalador.fit_transform(casas)\n",
    "\n",
    "# O bien a una sola colmna del datframe\n",
    "escalador.fit_transform(casas[['metros_terreno']])"
   ]
  },
  {
   "cell_type": "markdown",
   "metadata": {},
   "source": [
    "<strong>Estandarización: StandardScaler</strong>"
   ]
  },
  {
   "cell_type": "code",
   "execution_count": 126,
   "metadata": {},
   "outputs": [
    {
     "data": {
      "text/plain": [
       "array([[-0.33968311],\n",
       "       [ 1.35873244],\n",
       "       [-1.01904933]])"
      ]
     },
     "execution_count": 126,
     "metadata": {},
     "output_type": "execute_result"
    }
   ],
   "source": [
    "escalador = preprocessing.StandardScaler()\n",
    "escalador.fit_transform(casas)\n",
    "\n",
    "# O bien a una sola colmna del datframe\n",
    "escalador.fit_transform(casas[['metros_terreno']])"
   ]
  },
  {
   "cell_type": "markdown",
   "metadata": {},
   "source": [
    "### Uso de funciones"
   ]
  },
  {
   "cell_type": "markdown",
   "metadata": {},
   "source": [
    "#### Potencias"
   ]
  },
  {
   "cell_type": "code",
   "execution_count": 134,
   "metadata": {},
   "outputs": [
    {
     "data": {
      "text/html": [
       "<div>\n",
       "<style scoped>\n",
       "    .dataframe tbody tr th:only-of-type {\n",
       "        vertical-align: middle;\n",
       "    }\n",
       "\n",
       "    .dataframe tbody tr th {\n",
       "        vertical-align: top;\n",
       "    }\n",
       "\n",
       "    .dataframe thead th {\n",
       "        text-align: right;\n",
       "    }\n",
       "</style>\n",
       "<table border=\"1\" class=\"dataframe\">\n",
       "  <thead>\n",
       "    <tr style=\"text-align: right;\">\n",
       "      <th></th>\n",
       "      <th>x</th>\n",
       "      <th>y</th>\n",
       "    </tr>\n",
       "  </thead>\n",
       "  <tbody>\n",
       "    <tr>\n",
       "      <th>0</th>\n",
       "      <td>0</td>\n",
       "      <td>19.8843</td>\n",
       "    </tr>\n",
       "    <tr>\n",
       "      <th>1</th>\n",
       "      <td>1</td>\n",
       "      <td>19.2282</td>\n",
       "    </tr>\n",
       "    <tr>\n",
       "      <th>2</th>\n",
       "      <td>2</td>\n",
       "      <td>20.0582</td>\n",
       "    </tr>\n",
       "    <tr>\n",
       "      <th>3</th>\n",
       "      <td>3</td>\n",
       "      <td>27.3267</td>\n",
       "    </tr>\n",
       "    <tr>\n",
       "      <th>4</th>\n",
       "      <td>4</td>\n",
       "      <td>33.1432</td>\n",
       "    </tr>\n",
       "  </tbody>\n",
       "</table>\n",
       "</div>"
      ],
      "text/plain": [
       "   x        y\n",
       "0  0  19.8843\n",
       "1  1  19.2282\n",
       "2  2  20.0582\n",
       "3  3  27.3267\n",
       "4  4  33.1432"
      ]
     },
     "execution_count": 134,
     "metadata": {},
     "output_type": "execute_result"
    }
   ],
   "source": [
    "import pandas as pd\n",
    "\n",
    "data = {\n",
    "    'x': [0, 1, 2, 3, 4, 5, 6, 7, 8, 9, 10],\n",
    "    'y': [19.8843, 19.2282, 20.0582, 27.3267, 33.1432, 39.7118, 55.5618, 63.5668, 83.7457, 97.2570, 112.5323]\n",
    "}\n",
    "\n",
    "# Create a DataFrame\n",
    "puntos = pd.DataFrame(data)\n",
    "puntos.head()"
   ]
  },
  {
   "cell_type": "markdown",
   "metadata": {},
   "source": [
    "Si se grafica, es posible observar que la relación entre x y y no es lineal, parece más una parábola, es decir, una relación cuadrática"
   ]
  },
  {
   "cell_type": "code",
   "execution_count": 135,
   "metadata": {},
   "outputs": [
    {
     "data": {
      "text/plain": [
       "<Axes: xlabel='x'>"
      ]
     },
     "execution_count": 135,
     "metadata": {},
     "output_type": "execute_result"
    },
    {
     "data": {
      "image/png": "[encoded data removed]",
      "text/plain": [
       "<Figure size 640x480 with 1 Axes>"
      ]
     },
     "metadata": {},
     "output_type": "display_data"
    }
   ],
   "source": [
    "puntos.plot(x='x', y='y', kind='line')"
   ]
  },
  {
   "cell_type": "markdown",
   "metadata": {},
   "source": [
    "Con esto se sabe que la relación podría ser de la siguiente forma: \n",
    "$$y = w_0 + {w_1}x + w_2 x^2"
   ]
  },
  {
   "cell_type": "markdown",
   "metadata": {},
   "source": [
    "Donde, desde luego, faltaría conocer los valores exactos de las constantes. \n",
    "\n",
    "Para encontrar estos valores que logren aproximarse a los puntos lo mejor posible, se puede hacer una regresión, pero, para que la función pueda ser un polinomio de grado 2, es necesario crear una nueva variable a partir de la x con la que se cuenta. La nueva columna llamada *x**2* se formaría en Pandas con la instrucción:"
   ]
  },
  {
   "cell_type": "code",
   "execution_count": 136,
   "metadata": {},
   "outputs": [
    {
     "data": {
      "text/html": [
       "<div>\n",
       "<style scoped>\n",
       "    .dataframe tbody tr th:only-of-type {\n",
       "        vertical-align: middle;\n",
       "    }\n",
       "\n",
       "    .dataframe tbody tr th {\n",
       "        vertical-align: top;\n",
       "    }\n",
       "\n",
       "    .dataframe thead th {\n",
       "        text-align: right;\n",
       "    }\n",
       "</style>\n",
       "<table border=\"1\" class=\"dataframe\">\n",
       "  <thead>\n",
       "    <tr style=\"text-align: right;\">\n",
       "      <th></th>\n",
       "      <th>x</th>\n",
       "      <th>y</th>\n",
       "      <th>x**2</th>\n",
       "    </tr>\n",
       "  </thead>\n",
       "  <tbody>\n",
       "    <tr>\n",
       "      <th>0</th>\n",
       "      <td>0</td>\n",
       "      <td>19.8843</td>\n",
       "      <td>0</td>\n",
       "    </tr>\n",
       "    <tr>\n",
       "      <th>1</th>\n",
       "      <td>1</td>\n",
       "      <td>19.2282</td>\n",
       "      <td>1</td>\n",
       "    </tr>\n",
       "    <tr>\n",
       "      <th>2</th>\n",
       "      <td>2</td>\n",
       "      <td>20.0582</td>\n",
       "      <td>4</td>\n",
       "    </tr>\n",
       "    <tr>\n",
       "      <th>3</th>\n",
       "      <td>3</td>\n",
       "      <td>27.3267</td>\n",
       "      <td>9</td>\n",
       "    </tr>\n",
       "    <tr>\n",
       "      <th>4</th>\n",
       "      <td>4</td>\n",
       "      <td>33.1432</td>\n",
       "      <td>16</td>\n",
       "    </tr>\n",
       "    <tr>\n",
       "      <th>5</th>\n",
       "      <td>5</td>\n",
       "      <td>39.7118</td>\n",
       "      <td>25</td>\n",
       "    </tr>\n",
       "    <tr>\n",
       "      <th>6</th>\n",
       "      <td>6</td>\n",
       "      <td>55.5618</td>\n",
       "      <td>36</td>\n",
       "    </tr>\n",
       "    <tr>\n",
       "      <th>7</th>\n",
       "      <td>7</td>\n",
       "      <td>63.5668</td>\n",
       "      <td>49</td>\n",
       "    </tr>\n",
       "    <tr>\n",
       "      <th>8</th>\n",
       "      <td>8</td>\n",
       "      <td>83.7457</td>\n",
       "      <td>64</td>\n",
       "    </tr>\n",
       "    <tr>\n",
       "      <th>9</th>\n",
       "      <td>9</td>\n",
       "      <td>97.2570</td>\n",
       "      <td>81</td>\n",
       "    </tr>\n",
       "    <tr>\n",
       "      <th>10</th>\n",
       "      <td>10</td>\n",
       "      <td>112.5323</td>\n",
       "      <td>100</td>\n",
       "    </tr>\n",
       "  </tbody>\n",
       "</table>\n",
       "</div>"
      ],
      "text/plain": [
       "     x         y  x**2\n",
       "0    0   19.8843     0\n",
       "1    1   19.2282     1\n",
       "2    2   20.0582     4\n",
       "3    3   27.3267     9\n",
       "4    4   33.1432    16\n",
       "5    5   39.7118    25\n",
       "6    6   55.5618    36\n",
       "7    7   63.5668    49\n",
       "8    8   83.7457    64\n",
       "9    9   97.2570    81\n",
       "10  10  112.5323   100"
      ]
     },
     "execution_count": 136,
     "metadata": {},
     "output_type": "execute_result"
    }
   ],
   "source": [
    "puntos['x**2'] = puntos['x']**2\n",
    "puntos"
   ]
  },
  {
   "cell_type": "markdown",
   "metadata": {},
   "source": [
    "#### Logaritmos"
   ]
  },
  {
   "cell_type": "markdown",
   "metadata": {},
   "source": [
    "La librería numpy de Phyton tiene implementados los procedimientos para obtener tres logaritmos muy usados:\n",
    "- Log2(): logaritmo base 2\n",
    "- Log10(): logaritmo base 10\n",
    "- Log(): logaritmo natural o base e = 2.71828…, que es un número irracional"
   ]
  },
  {
   "cell_type": "code",
   "execution_count": 139,
   "metadata": {},
   "outputs": [
    {
     "name": "stderr",
     "output_type": "stream",
     "text": [
      "/Library/Frameworks/Python.framework/Versions/3.12/lib/python3.12/site-packages/pandas/core/arraylike.py:399: RuntimeWarning: divide by zero encountered in log10\n",
      "  result = getattr(ufunc, method)(*inputs, **kwargs)\n"
     ]
    },
    {
     "data": {
      "text/html": [
       "<div>\n",
       "<style scoped>\n",
       "    .dataframe tbody tr th:only-of-type {\n",
       "        vertical-align: middle;\n",
       "    }\n",
       "\n",
       "    .dataframe tbody tr th {\n",
       "        vertical-align: top;\n",
       "    }\n",
       "\n",
       "    .dataframe thead th {\n",
       "        text-align: right;\n",
       "    }\n",
       "</style>\n",
       "<table border=\"1\" class=\"dataframe\">\n",
       "  <thead>\n",
       "    <tr style=\"text-align: right;\">\n",
       "      <th></th>\n",
       "      <th>x</th>\n",
       "      <th>y</th>\n",
       "      <th>x**2</th>\n",
       "      <th>log10X</th>\n",
       "    </tr>\n",
       "  </thead>\n",
       "  <tbody>\n",
       "    <tr>\n",
       "      <th>0</th>\n",
       "      <td>0</td>\n",
       "      <td>19.8843</td>\n",
       "      <td>0</td>\n",
       "      <td>-inf</td>\n",
       "    </tr>\n",
       "    <tr>\n",
       "      <th>1</th>\n",
       "      <td>1</td>\n",
       "      <td>19.2282</td>\n",
       "      <td>1</td>\n",
       "      <td>0.000000</td>\n",
       "    </tr>\n",
       "    <tr>\n",
       "      <th>2</th>\n",
       "      <td>2</td>\n",
       "      <td>20.0582</td>\n",
       "      <td>4</td>\n",
       "      <td>0.301030</td>\n",
       "    </tr>\n",
       "    <tr>\n",
       "      <th>3</th>\n",
       "      <td>3</td>\n",
       "      <td>27.3267</td>\n",
       "      <td>9</td>\n",
       "      <td>0.477121</td>\n",
       "    </tr>\n",
       "    <tr>\n",
       "      <th>4</th>\n",
       "      <td>4</td>\n",
       "      <td>33.1432</td>\n",
       "      <td>16</td>\n",
       "      <td>0.602060</td>\n",
       "    </tr>\n",
       "  </tbody>\n",
       "</table>\n",
       "</div>"
      ],
      "text/plain": [
       "   x        y  x**2    log10X\n",
       "0  0  19.8843     0      -inf\n",
       "1  1  19.2282     1  0.000000\n",
       "2  2  20.0582     4  0.301030\n",
       "3  3  27.3267     9  0.477121\n",
       "4  4  33.1432    16  0.602060"
      ]
     },
     "execution_count": 139,
     "metadata": {},
     "output_type": "execute_result"
    }
   ],
   "source": [
    "import numpy as np\n",
    "\n",
    "puntos['log10X'] = np.log10(puntos['x'])\n",
    "puntos.head()"
   ]
  },
  {
   "cell_type": "markdown",
   "metadata": {},
   "source": [
    "Generalmente, estos tres son suficientes para todas las aplicaciones, pero si te hace falta un logaritmo de otra base c, este se puede obtener fácilmente a partir de un logaritmo base b ya conocido, con la relación:\n",
    "\n",
    "$$log_c(x) = \\frac{log_b(x)}{log_b(b)}"
   ]
  },
  {
   "cell_type": "markdown",
   "metadata": {},
   "source": [
    "#### One-Hot Encoding"
   ]
  },
  {
   "cell_type": "markdown",
   "metadata": {},
   "source": [
    "La codificación One-Hot es una forma especial que ayuda a representar números enteros utilizado un vector binario. \n",
    "\n",
    "En este vector, todos sus elementos son 0, excepto uno que tiene un 1 y que representa la posición del número entero que se está codificando. <br>\n",
    "Los números a codificar deben ser enteros consecutivos e inician a partir del 0, aunque se puede hacer un mapeo local para cambiarles el nombre. <br>\n",
    "Sin embargo, para efectos de esta explicación se puede suponer que siempre son números enteros consecutivos iniciando en 0.\n",
    "\n",
    "Si se cumplen estas condiciones, se van a requerir tantos bits en el vector como números se quieran representar.​\n",
    "\n",
    "Por ejemplo:\n",
    "\n",
    "Si se desean codificar los números {0, 1, 2, 3} en One-Hot cada número va a estar representado por un vector de 4 bits, donde el bit de más a la derecha es el primero y solo hay un 1, todos los demás son 0. La codificación para el 0 es 0001, lo que significa que el entero es el primero del conjunto, porque el bit que es 1 es el primero, esto es, el de más a la derecha. La codificación para el 1 es 0010, la del 2 es 0100 y la del 3 es 1000. \n",
    "​"
   ]
  },
  {
   "cell_type": "code",
   "execution_count": 141,
   "metadata": {},
   "outputs": [
    {
     "data": {
      "text/html": [
       "<div>\n",
       "<style scoped>\n",
       "    .dataframe tbody tr th:only-of-type {\n",
       "        vertical-align: middle;\n",
       "    }\n",
       "\n",
       "    .dataframe tbody tr th {\n",
       "        vertical-align: top;\n",
       "    }\n",
       "\n",
       "    .dataframe thead th {\n",
       "        text-align: right;\n",
       "    }\n",
       "</style>\n",
       "<table border=\"1\" class=\"dataframe\">\n",
       "  <thead>\n",
       "    <tr style=\"text-align: right;\">\n",
       "      <th></th>\n",
       "      <th>precio</th>\n",
       "      <th>color</th>\n",
       "      <th>id</th>\n",
       "      <th>clase</th>\n",
       "    </tr>\n",
       "  </thead>\n",
       "  <tbody>\n",
       "    <tr>\n",
       "      <th>0</th>\n",
       "      <td>10.25</td>\n",
       "      <td>rojo</td>\n",
       "      <td>0</td>\n",
       "      <td>manzana</td>\n",
       "    </tr>\n",
       "    <tr>\n",
       "      <th>1</th>\n",
       "      <td>12.50</td>\n",
       "      <td>verde</td>\n",
       "      <td>1</td>\n",
       "      <td>pera</td>\n",
       "    </tr>\n",
       "    <tr>\n",
       "      <th>2</th>\n",
       "      <td>21.50</td>\n",
       "      <td>rojo</td>\n",
       "      <td>2</td>\n",
       "      <td>fresa</td>\n",
       "    </tr>\n",
       "    <tr>\n",
       "      <th>3</th>\n",
       "      <td>13.42</td>\n",
       "      <td>verde</td>\n",
       "      <td>0</td>\n",
       "      <td>manzana</td>\n",
       "    </tr>\n",
       "    <tr>\n",
       "      <th>4</th>\n",
       "      <td>10.20</td>\n",
       "      <td>amarillo</td>\n",
       "      <td>1</td>\n",
       "      <td>pera</td>\n",
       "    </tr>\n",
       "    <tr>\n",
       "      <th>5</th>\n",
       "      <td>15.40</td>\n",
       "      <td>amarillo</td>\n",
       "      <td>0</td>\n",
       "      <td>manzana</td>\n",
       "    </tr>\n",
       "  </tbody>\n",
       "</table>\n",
       "</div>"
      ],
      "text/plain": [
       "   precio     color  id    clase\n",
       "0   10.25      rojo   0  manzana\n",
       "1   12.50     verde   1     pera\n",
       "2   21.50      rojo   2    fresa\n",
       "3   13.42     verde   0  manzana\n",
       "4   10.20  amarillo   1     pera\n",
       "5   15.40  amarillo   0  manzana"
      ]
     },
     "execution_count": 141,
     "metadata": {},
     "output_type": "execute_result"
    }
   ],
   "source": [
    "data = {\n",
    "    'precio': [10.25, 12.50, 21.50, 13.42, 10.20, 15.40],\n",
    "    'color': ['rojo', 'verde', 'rojo', 'verde', 'amarillo', 'amarillo'],\n",
    "    'id': [0, 1, 2, 0, 1, 0],\n",
    "    'clase': ['manzana', 'pera', 'fresa', 'manzana', 'pera', 'manzana']\n",
    "}\n",
    "\n",
    "fruta = pd.DataFrame(data)\n",
    "fruta"
   ]
  },
  {
   "cell_type": "markdown",
   "metadata": {},
   "source": [
    "#### Pandas"
   ]
  },
  {
   "cell_type": "markdown",
   "metadata": {},
   "source": [
    "Pandas usa la función *get_dummies()*, que toma una variable categórica, y regresa tantas columnas como categorías tenga la columna. <br>\n",
    "Los nombres brindados a las columnas son los de la categorías, colocándose en orden alfabético. Se asigna cero en todas ellas y solo un 1 en la que le corresponda."
   ]
  },
  {
   "cell_type": "code",
   "execution_count": 143,
   "metadata": {},
   "outputs": [
    {
     "data": {
      "text/html": [
       "<div>\n",
       "<style scoped>\n",
       "    .dataframe tbody tr th:only-of-type {\n",
       "        vertical-align: middle;\n",
       "    }\n",
       "\n",
       "    .dataframe tbody tr th {\n",
       "        vertical-align: top;\n",
       "    }\n",
       "\n",
       "    .dataframe thead th {\n",
       "        text-align: right;\n",
       "    }\n",
       "</style>\n",
       "<table border=\"1\" class=\"dataframe\">\n",
       "  <thead>\n",
       "    <tr style=\"text-align: right;\">\n",
       "      <th></th>\n",
       "      <th>clase_fresa</th>\n",
       "      <th>clase_manzana</th>\n",
       "      <th>clase_pera</th>\n",
       "    </tr>\n",
       "  </thead>\n",
       "  <tbody>\n",
       "    <tr>\n",
       "      <th>0</th>\n",
       "      <td>False</td>\n",
       "      <td>True</td>\n",
       "      <td>False</td>\n",
       "    </tr>\n",
       "    <tr>\n",
       "      <th>1</th>\n",
       "      <td>False</td>\n",
       "      <td>False</td>\n",
       "      <td>True</td>\n",
       "    </tr>\n",
       "    <tr>\n",
       "      <th>2</th>\n",
       "      <td>True</td>\n",
       "      <td>False</td>\n",
       "      <td>False</td>\n",
       "    </tr>\n",
       "    <tr>\n",
       "      <th>3</th>\n",
       "      <td>False</td>\n",
       "      <td>True</td>\n",
       "      <td>False</td>\n",
       "    </tr>\n",
       "    <tr>\n",
       "      <th>4</th>\n",
       "      <td>False</td>\n",
       "      <td>False</td>\n",
       "      <td>True</td>\n",
       "    </tr>\n",
       "    <tr>\n",
       "      <th>5</th>\n",
       "      <td>False</td>\n",
       "      <td>True</td>\n",
       "      <td>False</td>\n",
       "    </tr>\n",
       "  </tbody>\n",
       "</table>\n",
       "</div>"
      ],
      "text/plain": [
       "   clase_fresa  clase_manzana  clase_pera\n",
       "0        False           True       False\n",
       "1        False          False        True\n",
       "2         True          False       False\n",
       "3        False           True       False\n",
       "4        False          False        True\n",
       "5        False           True       False"
      ]
     },
     "execution_count": 143,
     "metadata": {},
     "output_type": "execute_result"
    }
   ],
   "source": [
    "fruta_OH = pd.get_dummies(fruta.clase, prefix = 'clase')\n",
    "fruta_OH"
   ]
  },
  {
   "cell_type": "markdown",
   "metadata": {},
   "source": [
    "#### ski-kit learn: LabelBinarizer & OneHotEncodertoarray"
   ]
  },
  {
   "cell_type": "code",
   "execution_count": 145,
   "metadata": {},
   "outputs": [
    {
     "data": {
      "text/plain": [
       "array([[0, 1, 0],\n",
       "       [0, 0, 1],\n",
       "       [1, 0, 0],\n",
       "       [0, 1, 0],\n",
       "       [0, 0, 1],\n",
       "       [0, 1, 0]])"
      ]
     },
     "execution_count": 145,
     "metadata": {},
     "output_type": "execute_result"
    }
   ],
   "source": [
    "from sklearn.preprocessing import LabelBinarizer\n",
    "\n",
    "fruta_OH = LabelBinarizer().fit_transform(fruta.clase)\n",
    "fruta_OH"
   ]
  },
  {
   "cell_type": "code",
   "execution_count": 151,
   "metadata": {},
   "outputs": [
    {
     "data": {
      "text/plain": [
       "array([[0., 1., 0.],\n",
       "       [0., 0., 1.],\n",
       "       [1., 0., 0.],\n",
       "       [0., 1., 0.],\n",
       "       [0., 0., 1.],\n",
       "       [0., 1., 0.]])"
      ]
     },
     "execution_count": 151,
     "metadata": {},
     "output_type": "execute_result"
    }
   ],
   "source": [
    "from sklearn.preprocessing import OneHotEncoder\n",
    "\n",
    "fruta_OH = OneHotEncoder().fit_transform(fruta[['clase']]).toarray()\n",
    "fruta_OH"
   ]
  },
  {
   "cell_type": "markdown",
   "metadata": {},
   "source": [
    "### Reducción de Dimensiones"
   ]
  },
  {
   "cell_type": "markdown",
   "metadata": {},
   "source": [
    "Consiste en transformar todo el conjunto de datos de un espacio de alta-dimensión a un espacio de baja-dimensión, reduciendo el número de variables que lo representan, pero manteniendo las propiedades más importantes que describen el conjunto de datos original."
   ]
  },
  {
   "cell_type": "markdown",
   "metadata": {},
   "source": [
    "### Análisis de Componentes Principales (PACA's)"
   ]
  },
  {
   "cell_type": "markdown",
   "metadata": {},
   "source": [
    "Existen varios métodos para hacer la reducción de dimensiones y uno de los más utilizados es la *selección de características o feature selection.* \n",
    "\n",
    "Sin embargo, el método más común para hacer la reducción de dimensiones en forma automática es el llamado *Análisis de Componentes Principales* o PCA por su nombre en inglés, *(Principal Components Analysis)*, el cual hace una proyección de los datos en un espacio con menos dimensiones."
   ]
  },
  {
   "cell_type": "code",
   "execution_count": 152,
   "metadata": {},
   "outputs": [
    {
     "data": {
      "text/html": [
       "<div>\n",
       "<style scoped>\n",
       "    .dataframe tbody tr th:only-of-type {\n",
       "        vertical-align: middle;\n",
       "    }\n",
       "\n",
       "    .dataframe tbody tr th {\n",
       "        vertical-align: top;\n",
       "    }\n",
       "\n",
       "    .dataframe thead th {\n",
       "        text-align: right;\n",
       "    }\n",
       "</style>\n",
       "<table border=\"1\" class=\"dataframe\">\n",
       "  <thead>\n",
       "    <tr style=\"text-align: right;\">\n",
       "      <th></th>\n",
       "      <th>x1</th>\n",
       "      <th>x2</th>\n",
       "    </tr>\n",
       "  </thead>\n",
       "  <tbody>\n",
       "    <tr>\n",
       "      <th>0</th>\n",
       "      <td>1</td>\n",
       "      <td>3</td>\n",
       "    </tr>\n",
       "    <tr>\n",
       "      <th>1</th>\n",
       "      <td>8</td>\n",
       "      <td>17</td>\n",
       "    </tr>\n",
       "    <tr>\n",
       "      <th>2</th>\n",
       "      <td>9</td>\n",
       "      <td>19</td>\n",
       "    </tr>\n",
       "    <tr>\n",
       "      <th>3</th>\n",
       "      <td>6</td>\n",
       "      <td>13</td>\n",
       "    </tr>\n",
       "    <tr>\n",
       "      <th>4</th>\n",
       "      <td>2</td>\n",
       "      <td>5</td>\n",
       "    </tr>\n",
       "  </tbody>\n",
       "</table>\n",
       "</div>"
      ],
      "text/plain": [
       "   x1  x2\n",
       "0   1   3\n",
       "1   8  17\n",
       "2   9  19\n",
       "3   6  13\n",
       "4   2   5"
      ]
     },
     "execution_count": 152,
     "metadata": {},
     "output_type": "execute_result"
    }
   ],
   "source": [
    "data = {\n",
    "    \"x1\":[1,8,9,6,2],\n",
    "    \"x2\":[3,17,19,13,5]\n",
    "}\n",
    "\n",
    "puntos2D = pd.DataFrame(data=data)\n",
    "puntos2D"
   ]
  },
  {
   "cell_type": "markdown",
   "metadata": {},
   "source": [
    "En realidad, la variable x2 es una función lineal de la variable x1:\n",
    "$$x_2 = 2*x_1+1"
   ]
  },
  {
   "cell_type": "markdown",
   "metadata": {},
   "source": [
    "Por lo anterior, no se está aportando ninguna información adicional al conjunto de datos."
   ]
  },
  {
   "cell_type": "code",
   "execution_count": 153,
   "metadata": {},
   "outputs": [
    {
     "name": "stdout",
     "output_type": "stream",
     "text": [
      "[[ 0.4472136   0.89442719]\n",
      " [ 0.89442719 -0.4472136 ]]\n"
     ]
    }
   ],
   "source": [
    "from sklearn.decomposition import PCA\n",
    "\n",
    "pca = PCA(2)\n",
    "pca.fit(puntos2D)\n",
    "print(pca.components_)"
   ]
  },
  {
   "cell_type": "markdown",
   "metadata": {},
   "source": [
    "Que da como resultado la impresión de los componentes en una matriz de 2 x 2 porque se le pidieron 2 componentes. <br>\n",
    "Y la ecvaluación de los dos componentes obtenidos:"
   ]
  },
  {
   "cell_type": "code",
   "execution_count": 154,
   "metadata": {},
   "outputs": [
    {
     "name": "stdout",
     "output_type": "stream",
     "text": [
      "[6.35000000e+01 1.36566344e-32]\n"
     ]
    }
   ],
   "source": [
    "print(pca.explained_variance_)"
   ]
  },
  {
   "cell_type": "markdown",
   "metadata": {},
   "source": [
    "Eso significa que, de la suma de esa lista, el primer componente explica 63.5 puntos de la varianza y el segundo 1.36 X 10-32, que es casi cero. <br>\n",
    "Es decir, casi toda la información de este conjunto de datos puede ser obtenida con el primer componente y el segundo no contiene mucha información. <br>\n",
    "A veces, es más comprensible conocer el porcentaje de varianza que está explicando cada componente. <br>\n",
    "Este porcentaje se obtiene sumando todos los valores y dividiendo cada uno entre el total, pero esto se puede obtener al imprimir la variable *explained_variance_ratio_*"
   ]
  },
  {
   "cell_type": "code",
   "execution_count": 155,
   "metadata": {},
   "outputs": [
    {
     "name": "stdout",
     "output_type": "stream",
     "text": [
      "[1.00000000e+00 2.15065108e-34]\n"
     ]
    }
   ],
   "source": [
    "print(pca.explained_variance_ratio_)"
   ]
  },
  {
   "cell_type": "markdown",
   "metadata": {},
   "source": [
    "Que significa que el primer componente explica casi el 100%, mientras que el segundo explica el 2.15 X 10-32%, esto es, prácticamente 0%. <br>\n",
    "Finalmente, para formar las nuevas variables se deben aplicar estos componentes al conjunto original de datos y esto se hace con el método *.transform()*"
   ]
  },
  {
   "cell_type": "code",
   "execution_count": 157,
   "metadata": {},
   "outputs": [
    {
     "data": {
      "text/plain": [
       "array([[-9.39148551e+00,  3.33066907e-16],\n",
       "       [ 6.26099034e+00, -4.44089210e-16],\n",
       "       [ 8.49705831e+00, -6.66133815e-16],\n",
       "       [ 1.78885438e+00,  0.00000000e+00],\n",
       "       [-7.15541753e+00,  2.22044605e-16]])"
      ]
     },
     "execution_count": 157,
     "metadata": {},
     "output_type": "execute_result"
    }
   ],
   "source": [
    "puntos2DPCA = pca.transform(puntos2D)\n",
    "puntos2DPCA"
   ]
  },
  {
   "cell_type": "markdown",
   "metadata": {},
   "source": [
    "El número de las nuevas variables que se deben seleccionar son aquellas que expliquen un porcentaje adecuado de la varianza. <br>\n",
    "Un valor común es 90% a 99%, pero hay casos en en los que se puede aceptar un porcentaje menor. "
   ]
  }
 ],
 "metadata": {
  "kernelspec": {
   "display_name": "Python 3",
   "language": "python",
   "name": "python3"
  },
  "language_info": {
   "codemirror_mode": {
    "name": "ipython",
    "version": 3
   },
   "file_extension": ".py",
   "mimetype": "text/x-python",
   "name": "python",
   "nbconvert_exporter": "python",
   "pygments_lexer": "ipython3",
   "version": "3.12.4"
  }
 },
 "nbformat": 4,
 "nbformat_minor": 2
}
